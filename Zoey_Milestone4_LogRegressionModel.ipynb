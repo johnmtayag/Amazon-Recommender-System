{
 "cells": [
  {
   "cell_type": "code",
   "execution_count": 12,
   "id": "6f3e4085-791f-40c0-aca7-2aeca8eec26c",
   "metadata": {
    "execution": {
     "iopub.execute_input": "2024-06-09T09:38:49.488561Z",
     "iopub.status.busy": "2024-06-09T09:38:49.488341Z",
     "iopub.status.idle": "2024-06-09T09:38:49.492113Z",
     "shell.execute_reply": "2024-06-09T09:38:49.491763Z",
     "shell.execute_reply.started": "2024-06-09T09:38:49.488548Z"
    }
   },
   "outputs": [],
   "source": [
    "## import libraries\n",
    "import numpy as np\n",
    "import pandas as pd\n",
    "import seaborn as sns\n",
    "import matplotlib.pyplot as plt\n",
    "import matplotlib.colors\n",
    "import json\n",
    "\n",
    "# import ipyleaflet as ipy\n",
    "\n",
    "from pyspark import SparkContext\n",
    "import pyspark.sql.functions as F\n",
    "import pyspark.ml.functions as M\n",
    "from pyspark.sql import SQLContext, SparkSession\n",
    "from pyspark.sql import Window as W\n",
    "from pyspark.sql.types import *\n",
    "from pyspark.ml.feature import PCA, VectorAssembler\n",
    "from pyspark.ml.linalg import Vectors\n",
    "from pyspark.sql.functions import col, udf\n",
    "from pyspark.sql.types import ArrayType, DoubleType\n",
    "from pyspark.ml.linalg import Vectors, VectorUDT\n",
    "from pyspark.ml.classification import LogisticRegression\n",
    "from pyspark.ml.evaluation import BinaryClassificationEvaluator\n",
    "from pyspark.ml.tuning import ParamGridBuilder, CrossValidator\n",
    "from pyspark.ml.evaluation import MulticlassClassificationEvaluator\n",
    "from sklearn.metrics import roc_curve, auc, precision_recall_curve\n",
    "\n",
    "import os\n",
    "import sys\n",
    "os.environ['PYSPARK_PYTHON'] = sys.executable\n",
    "os.environ['PYSPARK_DRIVER_PYTHON'] = sys.executable"
   ]
  },
  {
   "cell_type": "code",
   "execution_count": 2,
   "id": "b9ba86ed-38ea-4bcf-ae61-69fa9ab0bde0",
   "metadata": {
    "execution": {
     "iopub.execute_input": "2024-06-09T09:16:07.996604Z",
     "iopub.status.busy": "2024-06-09T09:16:07.996328Z",
     "iopub.status.idle": "2024-06-09T09:16:10.074043Z",
     "shell.execute_reply": "2024-06-09T09:16:10.073519Z",
     "shell.execute_reply.started": "2024-06-09T09:16:07.996584Z"
    }
   },
   "outputs": [],
   "source": [
    "# initialize a Spark session\n",
    "driver_memory = \"200g\"\n",
    "executor_memory = \"10g\"\n",
    "n_executors = 20 - 1\n",
    "\n",
    "spark = SparkSession.builder.config(\"spark.driver.memory\", driver_memory) \\\n",
    "                            .config(\"spark.executor.memory\", executor_memory) \\\n",
    "                            .config(\"spark.executor.instances\", n_executors) \\\n",
    "                            .getOrCreate()"
   ]
  },
  {
   "cell_type": "code",
   "execution_count": 3,
   "id": "6cb5e886-86aa-4866-8261-ad9b2c1e1e09",
   "metadata": {
    "execution": {
     "iopub.execute_input": "2024-06-09T09:16:10.074877Z",
     "iopub.status.busy": "2024-06-09T09:16:10.074736Z",
     "iopub.status.idle": "2024-06-09T09:16:16.105001Z",
     "shell.execute_reply": "2024-06-09T09:16:16.104545Z",
     "shell.execute_reply.started": "2024-06-09T09:16:10.074860Z"
    }
   },
   "outputs": [
    {
     "name": "stdout",
     "output_type": "stream",
     "text": [
      "CPU times: user 91.3 ms, sys: 5.75 ms, total: 97 ms\n",
      "Wall time: 6.03 s\n"
     ]
    }
   ],
   "source": [
    "%%time\n",
    "### Load datasets\n",
    "df_type = 30\n",
    "\n",
    "### Open the preprocessed dataset\n",
    "df_filtered = spark.read.load(\"preprocessed_df_subset/preprocessed_df_subset.parquet\")\n",
    "# df_count = df.count()\n",
    "\n",
    "# metadata\n",
    "meta_filename = \"metadata_preprocessed.csv\"\n",
    "df_meta = spark.read.csv(meta_filename, inferSchema=True, header=True)\n",
    "# df_meta_count = df_meta.count()\n",
    "\n",
    "# load labeled anomalies from subset\n",
    "labeled_anomalies = spark.read.csv(\"preprocessed_df_subset/pca_major_outliers.csv\", header=True, inferSchema=True)\n",
    "\n",
    "# load new dataset with outliers\n",
    "outliers = spark.read.csv(\"outliers/4_iforest_outliers.csv\", header=True, inferSchema=True)\n",
    "\n",
    "# calculate Q1 and Q3\n",
    "q1 = outliers.approxQuantile(\"score\", [0.25], 0.01)[0]\n",
    "q3 = outliers.approxQuantile(\"score\", [0.75], 0.01)[0]\n",
    "\n",
    "# calculate IQR\n",
    "iqr = q3 - q1\n",
    "\n",
    "# calculate cutoff\n",
    "cutoff = q1 - 1.5 * iqr\n",
    "\n",
    "# apply cutoff to the outliers\n",
    "manual_cutoff = 0.746\n",
    "outliers_filtered = outliers.filter(F.col(\"score\") < manual_cutoff)\n",
    "\n",
    "# convert metadata to pandas\n",
    "df_meta = df_meta.toPandas()"
   ]
  },
  {
   "cell_type": "code",
   "execution_count": 4,
   "id": "2cb8bf16-d201-4573-91b5-8b7e55304f50",
   "metadata": {
    "execution": {
     "iopub.execute_input": "2024-06-09T09:16:16.105805Z",
     "iopub.status.busy": "2024-06-09T09:16:16.105604Z",
     "iopub.status.idle": "2024-06-09T09:16:16.259747Z",
     "shell.execute_reply": "2024-06-09T09:16:16.259273Z",
     "shell.execute_reply.started": "2024-06-09T09:16:16.105792Z"
    }
   },
   "outputs": [
    {
     "name": "stdout",
     "output_type": "stream",
     "text": [
      "+---+------------+-----+----------+--------------------+--------------------+--------------------+--------------------+-------------------+-------------------+--------------------+-------------------+-------------------+\n",
      "|_c0|          id|ss_id|stamp_date|     power_kW_values|        coefficients|     reconstructions|            recon_PC|          recon_PC1|          recon_PC2|            power_PC|          power_PC1|          power_PC2|\n",
      "+---+------------+-----+----------+--------------------+--------------------+--------------------+--------------------+-------------------+-------------------+--------------------+-------------------+-------------------+\n",
      "|  0| 34359900110|11166|2017-10-19|[0.0, 0.0, 0.0, 0...|[0.52697645820444...|[-22358.707756119...|[123025.026370795...| 123025.02637079507| 11108.464198530139|[-7102.0403566638...|  -7102.04035666388|-11178.457952697754|\n",
      "|  1|146029336759| 7635|2017-12-02|[0.0, 0.0, 0.0, 0...|[0.64951905282214...|[17884.5246535117...|[-56668.839213105...|-56668.839213105144|  51726.57342267001|[-63469.756755853...|-63469.756755853814| 23766.557808472073|\n",
      "|  2|249108282825| 7635|2017-11-28|[0.0, 0.0, 0.0, 0...|[1.80421959122031...|[-7874.2587775632...|[11815.7541541159...| 11815.754154115948|    6298.7838960681|[-11413.634217984...|-11413.634217984645| -5872.707564739634|\n",
      "|  3|403727106413| 7635|2017-11-25|[0.0, 0.0, 0.0, 0...|[0.82272413358441...|[-41632.222919320...|[-1475.5865940630...|-1475.5865940630792|   49155.5583090022|[57048.2609852628...| 57048.260985262845| -33930.81038520657|\n",
      "|  4|438087055175| 3148|2018-11-07|[0.0, 0.0, 0.0, 0...|[-242158.19661128...|[-0.0021533324761...|[-114966.08781856...|-114966.08781856023|  38637.07072116534|[-56731.697125967...| -56731.69712596788|  9438.830385844481|\n",
      "|  5|489626448788| 7635|2017-11-30|[0.0, 0.0, 0.0, 0...|[2.10732848251677...|[-79774.445794989...|[-190.69693162903...|-190.69693162903422| 143950.88123373684|[-70758.107690097...| -70758.10769009701| -37581.01793665571|\n",
      "|  6|678605013184| 7635|2017-11-20|[0.0, 0.0, 0.0, 0...|[0.16937436172122...|[-35303.387941359...|[-3087.6842299185...|-3087.6842299185228|-2253.2285461694337|[22481.0917608169...|  22481.09176081694|-14602.839727893479|\n",
      "|  7|695784882663| 7635|2017-11-21|[0.0, 0.0, 0.0, 0...|[0.04330127019784...|[-30746.172976450...|[100764.007985186...|   100764.007985186|  4846.949870303924|[-1216.6415290601...| -1216.641529060158|-19819.532774242536|\n",
      "|  8|798864097700| 7635|2017-11-26|[0.0, 0.0, 0.0, 0...|[1.12583302491839...|[1028.54522497454...|[21874.7643167438...| 21874.764316743822|  8341.350837082959|[-14301.907205667...|-14301.907205667903|  2235.396338319606|\n",
      "|  9|816044242474| 7635|2017-12-07|[0.0, 0.0, 0.0, 0...|[0.40185888137784...|[5741.61372630680...|[-26122.909837990...|-26122.909837990628|-2052.0495527738276|[4583.71598893183...|  4583.715988931832|  3436.275652980001|\n",
      "+---+------------+-----+----------+--------------------+--------------------+--------------------+--------------------+-------------------+-------------------+--------------------+-------------------+-------------------+\n",
      "\n"
     ]
    }
   ],
   "source": [
    "labeled_anomalies.show()"
   ]
  },
  {
   "cell_type": "code",
   "execution_count": 6,
   "id": "8871d40b-f98d-4ba4-a8f3-ad7ff8616d58",
   "metadata": {
    "execution": {
     "iopub.execute_input": "2024-06-09T09:16:16.624104Z",
     "iopub.status.busy": "2024-06-09T09:16:16.623942Z",
     "iopub.status.idle": "2024-06-09T09:16:17.791734Z",
     "shell.execute_reply": "2024-06-09T09:16:17.791353Z",
     "shell.execute_reply.started": "2024-06-09T09:16:16.624091Z"
    }
   },
   "outputs": [
    {
     "name": "stdout",
     "output_type": "stream",
     "text": [
      "Sampling the data...\n",
      "root\n",
      " |-- original_id: long (nullable = true)\n",
      " |-- original_ss_id: long (nullable = true)\n",
      " |-- original_stamp_date: date (nullable = true)\n",
      " |-- original_power_kW_values: array (nullable = true)\n",
      " |    |-- element: double (containsNull = true)\n",
      " |-- original_coefficients: array (nullable = true)\n",
      " |    |-- element: double (containsNull = true)\n",
      " |-- original_reconstructions: array (nullable = true)\n",
      " |    |-- element: double (containsNull = true)\n",
      " |-- original_recon_PC: array (nullable = true)\n",
      " |    |-- element: double (containsNull = true)\n",
      " |-- original_recon_PC1: double (nullable = true)\n",
      " |-- original_recon_PC2: double (nullable = true)\n",
      " |-- original_power_PC: array (nullable = true)\n",
      " |    |-- element: double (containsNull = true)\n",
      " |-- original_power_PC1: double (nullable = true)\n",
      " |-- original_power_PC2: double (nullable = true)\n",
      " |-- _c0: integer (nullable = true)\n",
      " |-- id: long (nullable = true)\n",
      " |-- anomaly_ss_id: integer (nullable = true)\n",
      " |-- anomaly_stamp_date: date (nullable = true)\n",
      " |-- anomaly_power_kW_values: string (nullable = true)\n",
      " |-- anomaly_coeff: string (nullable = true)\n",
      " |-- anomaly_recon: string (nullable = true)\n",
      " |-- anomaly_recon_PC: string (nullable = true)\n",
      " |-- anomaly_recon_PC1: double (nullable = true)\n",
      " |-- anomaly_recon_PC2: double (nullable = true)\n",
      " |-- anomaly_power_PC: string (nullable = true)\n",
      " |-- anomaly_power_PC1: double (nullable = true)\n",
      " |-- power_PC2: double (nullable = true)\n",
      " |-- _c0: integer (nullable = true)\n",
      " |-- outlier_id: long (nullable = true)\n",
      " |-- outlier_ss_id: integer (nullable = true)\n",
      " |-- outlier_stamp_date: date (nullable = true)\n",
      " |-- outlier_score: double (nullable = true)\n",
      " |-- label: integer (nullable = false)\n",
      "\n"
     ]
    }
   ],
   "source": [
    "# rename columns\n",
    "labeled_anomalies = labeled_anomalies.withColumnRenamed(\"ss_id\", \"anomaly_ss_id\") \\\n",
    "                                     .withColumnRenamed(\"stamp_date\", \"anomaly_stamp_date\") \\\n",
    "                                     .withColumnRenamed(\"power_kW_values\", \"anomaly_power_kW_values\") \\\n",
    "                                     .withColumnRenamed(\"coefficients\", \"anomaly_coeff\") \\\n",
    "                                     .withColumnRenamed(\"reconstructions\", \"anomaly_recon\") \\\n",
    "                                     .withColumnRenamed(\"recon_PC\", \"anomaly_recon_PC\") \\\n",
    "                                     .withColumnRenamed(\"recon_PC1\", \"anomaly_recon_PC1\") \\\n",
    "                                     .withColumnRenamed(\"recon_PC2\", \"anomaly_recon_PC2\") \\\n",
    "                                     .withColumnRenamed(\"power_PC\", \"anomaly_power_PC\") \\\n",
    "                                     .withColumnRenamed(\"power_PC1\", \"anomaly_power_PC1\") \\\n",
    "                                     .withColumnRenamed(\"power_power_PC2\", \"anomaly_power_PC2\") \\\n",
    "\n",
    "# rename columns\n",
    "outliers_filtered = outliers_filtered.withColumnRenamed(\"ss_id\", \"outlier_ss_id\") \\\n",
    "                                     .withColumnRenamed(\"id\", \"outlier_id\") \\\n",
    "                                     .withColumnRenamed(\"stamp_date\", \"outlier_stamp_date\") \\\n",
    "                                     .withColumnRenamed(\"score\", \"outlier_score\")\n",
    "\n",
    "# ensure the original dataframe does not have duplicated column names\n",
    "df_filtered = df_filtered.withColumnRenamed(\"id\", \"original_id\") \\\n",
    "                         .withColumnRenamed(\"ss_id\", \"original_ss_id\") \\\n",
    "                         .withColumnRenamed(\"stamp_date\", \"original_stamp_date\") \\\n",
    "                         .withColumnRenamed(\"power_kW_values\", \"original_power_kW_values\") \\\n",
    "                         .withColumnRenamed(\"coefficients\", \"original_coefficients\") \\\n",
    "                         .withColumnRenamed(\"reconstructions\", \"original_reconstructions\") \\\n",
    "                         .withColumnRenamed(\"recon_PC\", \"original_recon_PC\") \\\n",
    "                         .withColumnRenamed(\"recon_PC1\", \"original_recon_PC1\") \\\n",
    "                         .withColumnRenamed(\"recon_PC2\", \"original_recon_PC2\") \\\n",
    "                         .withColumnRenamed(\"power_PC\", \"original_power_PC\") \\\n",
    "                         .withColumnRenamed(\"power_PC1\", \"original_power_PC1\") \\\n",
    "                         .withColumnRenamed(\"power_PC2\", \"original_power_PC2\") \\\n",
    "\n",
    "# sample a smaller portion of the data first to reduce load\n",
    "print(\"Sampling the data...\")\n",
    "sampled_data = df_filtered.sample(withReplacement=False, fraction=0.1, seed=24)\n",
    "sampled_data.count()\n",
    "\n",
    "# merge labeled anomalies with the original dataframe\n",
    "labeled_data = sampled_data.join(labeled_anomalies, sampled_data.original_ss_id == labeled_anomalies.anomaly_ss_id, how=\"left\")\n",
    "\n",
    "# merge filtered outliers with the labeled data\n",
    "labeled_data = labeled_data.join(outliers_filtered, labeled_data.original_ss_id == outliers_filtered.outlier_ss_id, how=\"left\")\n",
    "\n",
    "# create a label column where 1 indicates an anomaly and 0 indicates normal\n",
    "labeled_data = labeled_data.withColumn(\"label\", F.when((F.col(\"anomaly_ss_id\").isNotNull()) | (F.col(\"outlier_ss_id\").isNotNull()), 1).otherwise(0))\n",
    "\n",
    "# print schema to verify column names\n",
    "labeled_data.printSchema()"
   ]
  },
  {
   "cell_type": "code",
   "execution_count": 7,
   "id": "ca9b5650-bb21-402b-b200-d821bb13c04b",
   "metadata": {
    "execution": {
     "iopub.execute_input": "2024-06-09T09:16:17.793483Z",
     "iopub.status.busy": "2024-06-09T09:16:17.793271Z",
     "iopub.status.idle": "2024-06-09T09:16:17.858480Z",
     "shell.execute_reply": "2024-06-09T09:16:17.858027Z",
     "shell.execute_reply.started": "2024-06-09T09:16:17.793470Z"
    }
   },
   "outputs": [
    {
     "name": "stdout",
     "output_type": "stream",
     "text": [
      "+---+------------+-------------+------------------+-----------------------+--------------------+--------------------+--------------------+-------------------+------------------+--------------------+-------------------+-------------------+\n",
      "|_c0|          id|anomaly_ss_id|anomaly_stamp_date|anomaly_power_kW_values|       anomaly_coeff|       anomaly_recon|    anomaly_recon_PC|  anomaly_recon_PC1| anomaly_recon_PC2|    anomaly_power_PC|  anomaly_power_PC1|          power_PC2|\n",
      "+---+------------+-------------+------------------+-----------------------+--------------------+--------------------+--------------------+-------------------+------------------+--------------------+-------------------+-------------------+\n",
      "|  0| 34359900110|        11166|        2017-10-19|   [0.0, 0.0, 0.0, 0...|[0.52697645820444...|[-22358.707756119...|[123025.026370795...| 123025.02637079507|11108.464198530139|[-7102.0403566638...|  -7102.04035666388|-11178.457952697754|\n",
      "|  1|146029336759|         7635|        2017-12-02|   [0.0, 0.0, 0.0, 0...|[0.64951905282214...|[17884.5246535117...|[-56668.839213105...|-56668.839213105144| 51726.57342267001|[-63469.756755853...|-63469.756755853814| 23766.557808472073|\n",
      "|  2|249108282825|         7635|        2017-11-28|   [0.0, 0.0, 0.0, 0...|[1.80421959122031...|[-7874.2587775632...|[11815.7541541159...| 11815.754154115948|   6298.7838960681|[-11413.634217984...|-11413.634217984645| -5872.707564739634|\n",
      "+---+------------+-------------+------------------+-----------------------+--------------------+--------------------+--------------------+-------------------+------------------+--------------------+-------------------+-------------------+\n",
      "only showing top 3 rows\n",
      "\n"
     ]
    }
   ],
   "source": [
    "labeled_anomalies.show(3)"
   ]
  },
  {
   "cell_type": "code",
   "execution_count": 8,
   "id": "bbfa2fc4-b287-4bec-9e4e-6c4112a5300c",
   "metadata": {
    "execution": {
     "iopub.execute_input": "2024-06-09T09:16:17.859205Z",
     "iopub.status.busy": "2024-06-09T09:16:17.859037Z",
     "iopub.status.idle": "2024-06-09T09:16:49.220964Z",
     "shell.execute_reply": "2024-06-09T09:16:49.220499Z",
     "shell.execute_reply.started": "2024-06-09T09:16:17.859191Z"
    }
   },
   "outputs": [
    {
     "name": "stdout",
     "output_type": "stream",
     "text": [
      "+-----------+--------------+-------------------+------------------------+---------------------+------------------------+--------------------+-------------------+--------------------+--------------------+-------------------+--------------------+----+----+-------------+------------------+-----------------------+-------------+-------------+----------------+-----------------+-----------------+----------------+-----------------+---------+-----+------------+-------------+------------------+------------------+-----+\n",
      "|original_id|original_ss_id|original_stamp_date|original_power_kW_values|original_coefficients|original_reconstructions|   original_recon_PC| original_recon_PC1|  original_recon_PC2|   original_power_PC| original_power_PC1|  original_power_PC2| _c0|  id|anomaly_ss_id|anomaly_stamp_date|anomaly_power_kW_values|anomaly_coeff|anomaly_recon|anomaly_recon_PC|anomaly_recon_PC1|anomaly_recon_PC2|anomaly_power_PC|anomaly_power_PC1|power_PC2|  _c0|  outlier_id|outlier_ss_id|outlier_stamp_date|     outlier_score|label|\n",
      "+-----------+--------------+-------------------+------------------------+---------------------+------------------------+--------------------+-------------------+--------------------+--------------------+-------------------+--------------------+----+----+-------------+------------------+-----------------------+-------------+-------------+----------------+-----------------+-----------------+----------------+-----------------+---------+-----+------------+-------------+------------------+------------------+-----+\n",
      "|        593|          2439|         2012-10-20|    [0.0, 0.0, 0.0, 0...| [0.98751144742731...|    [0.00470277998561...|[-0.8559115377672...|-0.8559115377672684|-0.07005282610575994|[0.01883039955655...|0.01883039955655902|0.001769800876620...|NULL|NULL|         NULL|              NULL|                   NULL|         NULL|         NULL|            NULL|             NULL|             NULL|            NULL|             NULL|     NULL| 3642| 60129615069|         2439|        2018-06-21|0.7971466666666668|    1|\n",
      "|        593|          2439|         2012-10-20|    [0.0, 0.0, 0.0, 0...| [0.98751144742731...|    [0.00470277998561...|[-0.8559115377672...|-0.8559115377672684|-0.07005282610575994|[0.01883039955655...|0.01883039955655902|0.001769800876620...|NULL|NULL|         NULL|              NULL|                   NULL|         NULL|         NULL|            NULL|             NULL|             NULL|            NULL|             NULL|     NULL|14620|532576047434|         2439|        2013-04-06|0.7878433333333333|    1|\n",
      "|        593|          2439|         2012-10-20|    [0.0, 0.0, 0.0, 0...| [0.98751144742731...|    [0.00470277998561...|[-0.8559115377672...|-0.8559115377672684|-0.07005282610575994|[0.01883039955655...|0.01883039955655902|0.001769800876620...|NULL|NULL|         NULL|              NULL|                   NULL|         NULL|         NULL|            NULL|             NULL|             NULL|            NULL|             NULL|     NULL|18941|584115657963|         2439|        2016-05-04|0.7986733333333333|    1|\n",
      "|        593|          2439|         2012-10-20|    [0.0, 0.0, 0.0, 0...| [0.98751144742731...|    [0.00470277998561...|[-0.8559115377672...|-0.8559115377672684|-0.07005282610575994|[0.01883039955655...|0.01883039955655902|0.001769800876620...|NULL|NULL|         NULL|              NULL|                   NULL|         NULL|         NULL|            NULL|             NULL|             NULL|            NULL|             NULL|     NULL|69400|670015277206|         2439|        2020-05-18|           0.81062|    1|\n",
      "|        593|          2439|         2012-10-20|    [0.0, 0.0, 0.0, 0...| [0.98751144742731...|    [0.00470277998561...|[-0.8559115377672...|-0.8559115377672684|-0.07005282610575994|[0.01883039955655...|0.01883039955655902|0.001769800876620...|NULL|NULL|         NULL|              NULL|                   NULL|         NULL|         NULL|            NULL|             NULL|             NULL|            NULL|             NULL|     NULL|72617|609885462672|         2439|        2021-04-04|0.8152266666666667|    1|\n",
      "+-----------+--------------+-------------------+------------------------+---------------------+------------------------+--------------------+-------------------+--------------------+--------------------+-------------------+--------------------+----+----+-------------+------------------+-----------------------+-------------+-------------+----------------+-----------------+-----------------+----------------+-----------------+---------+-----+------------+-------------+------------------+------------------+-----+\n",
      "only showing top 5 rows\n",
      "\n"
     ]
    }
   ],
   "source": [
    "labeled_data.show(5)"
   ]
  },
  {
   "cell_type": "code",
   "execution_count": 9,
   "id": "384d0af2-83e9-4036-8962-39cbff909691",
   "metadata": {
    "execution": {
     "iopub.execute_input": "2024-06-09T09:16:49.221654Z",
     "iopub.status.busy": "2024-06-09T09:16:49.221523Z",
     "iopub.status.idle": "2024-06-09T09:16:55.469894Z",
     "shell.execute_reply": "2024-06-09T09:16:55.469439Z",
     "shell.execute_reply.started": "2024-06-09T09:16:49.221642Z"
    }
   },
   "outputs": [],
   "source": [
    "spark.catalog.clearCache()\n",
    "\n",
    "# define a UDF to convert strings to arrays\n",
    "def string_to_array(value):\n",
    "    if isinstance(value, list):\n",
    "        return value\n",
    "    if value is None:\n",
    "        return []\n",
    "    return [float(x) for x in value.strip('[]').split(',')]\n",
    "\n",
    "string_to_array_udf = udf(string_to_array, ArrayType(DoubleType()))\n",
    "\n",
    "# apply the UDF to convert string columns to array columns\n",
    "labeled_data = labeled_data.withColumn(\"reconstructions_array\", string_to_array_udf(F.col(\"original_reconstructions\"))) \\\n",
    "\n",
    "labeled_data = labeled_data.filter(F.size(F.col(\"reconstructions_array\")) > 0)\n",
    "\n",
    "# convert arrays to vectors\n",
    "def array_to_vector(array):\n",
    "    return Vectors.dense(array)\n",
    "\n",
    "array_to_vector_udf = udf(array_to_vector, VectorUDT())\n",
    "\n",
    "# apply UDF to convert arrays to vectors\n",
    "labeled_data = labeled_data.withColumn(\"reconstructions_vector\", array_to_vector_udf(F.col(\"reconstructions_array\"))) \\\n",
    "\n",
    "# assemble the vectors into a single feature vector\n",
    "assembler = VectorAssembler(inputCols=[\"reconstructions_vector\", \"original_recon_PC1\", \"original_recon_PC2\"], outputCol=\"features\")\n",
    "final_data = assembler.transform(labeled_data)\n",
    "\n",
    "# select only the features and label columns\n",
    "final_data = final_data.select(\"features\", \"label\")\n",
    "\n",
    "def is_vector_empty(vector):\n",
    "    return len(vector.values) == 0\n",
    "\n",
    "is_vector_empty_udf = udf(is_vector_empty, BooleanType())\n",
    "\n",
    "non_empty_data = final_data.filter(~is_vector_empty_udf(F.col(\"features\")))\n",
    "empty_data = final_data.filter(is_vector_empty_udf(F.col(\"features\")))"
   ]
  },
  {
   "cell_type": "code",
   "execution_count": 10,
   "id": "5d95e6e3-93f3-4f07-9e36-d0221533fc3b",
   "metadata": {
    "execution": {
     "iopub.execute_input": "2024-06-09T09:16:55.470691Z",
     "iopub.status.busy": "2024-06-09T09:16:55.470484Z",
     "iopub.status.idle": "2024-06-09T09:17:05.203298Z",
     "shell.execute_reply": "2024-06-09T09:17:05.202844Z",
     "shell.execute_reply.started": "2024-06-09T09:16:55.470679Z"
    }
   },
   "outputs": [
    {
     "name": "stdout",
     "output_type": "stream",
     "text": [
      "+-----+---------+\n",
      "|label|    count|\n",
      "+-----+---------+\n",
      "|    1|428697205|\n",
      "|    0|   316713|\n",
      "+-----+---------+\n",
      "\n"
     ]
    }
   ],
   "source": [
    "# check the label distribution\n",
    "label_distribution = final_data.groupBy(\"label\").count()\n",
    "label_distribution.show()"
   ]
  },
  {
   "cell_type": "code",
   "execution_count": 13,
   "id": "bbe6ccc2-8183-475b-8b57-53a9a9cbbe43",
   "metadata": {
    "execution": {
     "iopub.execute_input": "2024-06-09T09:38:57.699612Z",
     "iopub.status.busy": "2024-06-09T09:38:57.699275Z",
     "iopub.status.idle": "2024-06-09T10:30:51.855054Z",
     "shell.execute_reply": "2024-06-09T10:30:51.854605Z",
     "shell.execute_reply.started": "2024-06-09T09:38:57.699601Z"
    }
   },
   "outputs": [
    {
     "name": "stdout",
     "output_type": "stream",
     "text": [
      "Count of balanced data:\n",
      "+-----+------+\n",
      "|label| count|\n",
      "+-----+------+\n",
      "|    1|309550|\n",
      "|    0|309845|\n",
      "+-----+------+\n",
      "\n"
     ]
    }
   ],
   "source": [
    "# sample a small fraction of the data to estimate class distribution\n",
    "sample_fraction = 0.01\n",
    "sampled_data = non_empty_data.sample(withReplacement=False, fraction=sample_fraction, seed=42)\n",
    "sampled_label_distribution = sampled_data.groupBy(\"label\").count().collect()\n",
    "\n",
    "# estimate class counts from the sample\n",
    "minority_class_count = next(row[\"count\"] for row in sampled_label_distribution if row[\"label\"] == 0)\n",
    "majority_class_count = next(row[\"count\"] for row in sampled_label_distribution if row[\"label\"] == 1)\n",
    "\n",
    "# calculate the sampling fraction for down-sampling the majority class\n",
    "sampling_fraction = minority_class_count / float(majority_class_count)\n",
    "\n",
    "# down-sample the majority class based on the estimated fraction\n",
    "majority_class_data = non_empty_data.filter(col(\"label\") == 1)\n",
    "minority_class_data = non_empty_data.filter(col(\"label\") == 0)\n",
    "\n",
    "sampled_majority_class_data = majority_class_data.sample(withReplacement=False, fraction=sampling_fraction, seed=42)\n",
    "balanced_data = sampled_majority_class_data.union(minority_class_data)\n",
    "\n",
    "print(\"Count of balanced data:\")\n",
    "balanced_data.groupBy(\"label\").count().show()"
   ]
  },
  {
   "cell_type": "code",
   "execution_count": 15,
   "id": "70034cfa-03c5-4e56-9d9d-26cce6295343",
   "metadata": {
    "execution": {
     "iopub.execute_input": "2024-06-09T10:33:19.182619Z",
     "iopub.status.busy": "2024-06-09T10:33:19.182132Z",
     "iopub.status.idle": "2024-06-09T11:34:00.547073Z",
     "shell.execute_reply": "2024-06-09T11:34:00.546695Z",
     "shell.execute_reply.started": "2024-06-09T10:33:19.182580Z"
    }
   },
   "outputs": [],
   "source": [
    "balanced_data.write.mode(\"overwrite\").parquet(\"balanced_data.parquet\")"
   ]
  },
  {
   "cell_type": "code",
   "execution_count": 16,
   "id": "24a8309b-f56c-4617-b8a6-aa141090accd",
   "metadata": {
    "execution": {
     "iopub.execute_input": "2024-06-09T11:34:00.548756Z",
     "iopub.status.busy": "2024-06-09T11:34:00.548498Z",
     "iopub.status.idle": "2024-06-09T12:35:57.077536Z",
     "shell.execute_reply": "2024-06-09T12:35:57.077093Z",
     "shell.execute_reply.started": "2024-06-09T11:34:00.548744Z"
    }
   },
   "outputs": [
    {
     "name": "stdout",
     "output_type": "stream",
     "text": [
      "Splitting the data into training and test sets...\n",
      "Training data count: 495437\n",
      "Test data count: 123958\n"
     ]
    }
   ],
   "source": [
    "# split the sampled data into training and test sets\n",
    "print(\"Splitting the data into training and test sets...\")\n",
    "train_data, test_data = balanced_data.randomSplit([0.8, 0.2], seed=30)\n",
    "print(f\"Training data count: {train_data.count()}\")\n",
    "print(f\"Test data count: {test_data.count()}\")"
   ]
  },
  {
   "cell_type": "code",
   "execution_count": 17,
   "id": "bbc6699d-57cc-4127-8e47-4c7e65872ac5",
   "metadata": {
    "execution": {
     "iopub.execute_input": "2024-06-09T12:35:57.078243Z",
     "iopub.status.busy": "2024-06-09T12:35:57.078085Z",
     "iopub.status.idle": "2024-06-09T12:35:57.266142Z",
     "shell.execute_reply": "2024-06-09T12:35:57.265723Z",
     "shell.execute_reply.started": "2024-06-09T12:35:57.078231Z"
    }
   },
   "outputs": [
    {
     "name": "stdout",
     "output_type": "stream",
     "text": [
      "Defining the Logistic Regression model...\n",
      "Creating a ParamGrid for Cross Validation...\n",
      "Defining the Binary Classification Evaluator...\n",
      "Creating 5-fold CrossValidator...\n"
     ]
    }
   ],
   "source": [
    "# define the Logistic Regression model\n",
    "print(\"Defining the Logistic Regression model...\")\n",
    "lr = LogisticRegression(featuresCol='features', labelCol='label', maxIter=10)\n",
    "\n",
    "# create a ParamGrid for Cross Validation\n",
    "print(\"Creating a ParamGrid for Cross Validation...\")\n",
    "paramGrid = ParamGridBuilder() \\\n",
    "    .addGrid(lr.regParam, [0.1, 0.01]) \\\n",
    "    .build()\n",
    "\n",
    "# define the Binary Classification Evaluator\n",
    "print(\"Defining the Binary Classification Evaluator...\")\n",
    "evaluator = BinaryClassificationEvaluator(rawPredictionCol=\"rawPrediction\", labelCol=\"label\")\n",
    "\n",
    "# create 5-fold CrossValidator\n",
    "print(\"Creating 5-fold CrossValidator...\")\n",
    "cv = CrossValidator(estimator=lr, estimatorParamMaps=paramGrid, evaluator=evaluator, numFolds=5)"
   ]
  },
  {
   "cell_type": "code",
   "execution_count": 18,
   "id": "d0d1320f-15d4-44dd-bf46-e072741683e6",
   "metadata": {
    "execution": {
     "iopub.execute_input": "2024-06-09T12:35:57.267183Z",
     "iopub.status.busy": "2024-06-09T12:35:57.266986Z",
     "iopub.status.idle": "2024-06-09T19:30:31.616212Z",
     "shell.execute_reply": "2024-06-09T19:30:31.612965Z",
     "shell.execute_reply.started": "2024-06-09T12:35:57.267171Z"
    }
   },
   "outputs": [
    {
     "name": "stdout",
     "output_type": "stream",
     "text": [
      "Training the model...\n",
      "Model training completed.\n",
      "Making predictions on the test data...\n",
      "Predictions completed.\n",
      "Evaluating the model...\n",
      "Test Accuracy: 0.7019551086538586\n",
      "Showing some predictions...\n",
      "+--------------------+-----+----------+--------------------+\n",
      "|            features|label|prediction|         probability|\n",
      "+--------------------+-----+----------+--------------------+\n",
      "|[-0.0795934026130...|    1|       1.0|[0.34258434094150...|\n",
      "|[-0.0778390198141...|    1|       1.0|[0.35558051224536...|\n",
      "|[-0.0717546962004...|    1|       1.0|[0.37771346112595...|\n",
      "|[-0.0665710082629...|    1|       1.0|[0.16257928493434...|\n",
      "|[-0.0630834299270...|    1|       1.0|[0.15732504297349...|\n",
      "+--------------------+-----+----------+--------------------+\n",
      "only showing top 5 rows\n",
      "\n",
      "Prediction display completed.\n"
     ]
    }
   ],
   "source": [
    "# train the model\n",
    "print(\"Training the model...\")\n",
    "cvModel = cv.fit(train_data)\n",
    "print(\"Model training completed.\")\n",
    "\n",
    "# make predictions on the test data\n",
    "print(\"Making predictions on the test data...\")\n",
    "predictions = cvModel.transform(test_data)\n",
    "print(\"Predictions completed.\")\n",
    "\n",
    "# evaluate the model\n",
    "print(\"Evaluating the model...\")\n",
    "accuracy = evaluator.evaluate(predictions)\n",
    "print(f\"Test Accuracy: {accuracy}\")\n",
    "\n",
    "# show some predictions\n",
    "print(\"Showing some predictions...\")\n",
    "predictions.select(\"features\", \"label\", \"prediction\", \"probability\").show(5)\n",
    "print(\"Prediction display completed.\")"
   ]
  },
  {
   "cell_type": "code",
   "execution_count": 19,
   "id": "1b2cbadc-41e5-47e4-914a-69962bdff4a3",
   "metadata": {
    "execution": {
     "iopub.execute_input": "2024-06-09T19:30:31.621892Z",
     "iopub.status.busy": "2024-06-09T19:30:31.621640Z",
     "iopub.status.idle": "2024-06-09T20:00:26.533197Z",
     "shell.execute_reply": "2024-06-09T20:00:26.532804Z",
     "shell.execute_reply.started": "2024-06-09T19:30:31.621879Z"
    }
   },
   "outputs": [
    {
     "name": "stdout",
     "output_type": "stream",
     "text": [
      "+-----+----------+-----+\n",
      "|label|prediction|count|\n",
      "+-----+----------+-----+\n",
      "|    1|       0.0|26477|\n",
      "|    1|       1.0|35354|\n",
      "|    0|       0.0|45500|\n",
      "|    0|       1.0|16627|\n",
      "+-----+----------+-----+\n",
      "\n"
     ]
    }
   ],
   "source": [
    "# create a confusion matrix\n",
    "predictions.groupBy(\"label\", \"prediction\").count().show()"
   ]
  },
  {
   "cell_type": "code",
   "execution_count": 24,
   "id": "e37fbbe2-2125-4d83-975e-0928bb0ec4ca",
   "metadata": {
    "execution": {
     "iopub.execute_input": "2024-06-09T22:35:29.781599Z",
     "iopub.status.busy": "2024-06-09T22:35:29.781219Z",
     "iopub.status.idle": "2024-06-09T22:35:29.784743Z",
     "shell.execute_reply": "2024-06-09T22:35:29.784392Z",
     "shell.execute_reply.started": "2024-06-09T22:35:29.781578Z"
    }
   },
   "outputs": [],
   "source": [
    "# save the trained model\n",
    "cvModel.save(\"logistic_reg_model/model\")\n",
    "\n",
    "# save the predictions\n",
    "predictions.write.format(\"parquet\").save(\"logistic_reg_model/predictions\")\n",
    "\n",
    "# save the evaluation metrics\n",
    "metrics = {\n",
    "    \"accuracy\": accuracy\n",
    "}\n",
    "\n",
    "with open(\"logistic_reg_model/metrics.json\", \"w\") as f:\n",
    "    json.dump(metrics, f)"
   ]
  },
  {
   "cell_type": "code",
   "execution_count": 25,
   "id": "da09ccc3-0dbc-41eb-8eff-ea455e814508",
   "metadata": {
    "execution": {
     "iopub.execute_input": "2024-06-09T22:36:41.663123Z",
     "iopub.status.busy": "2024-06-09T22:36:41.662857Z",
     "iopub.status.idle": "2024-06-10T00:41:13.899557Z",
     "shell.execute_reply": "2024-06-10T00:41:13.899064Z",
     "shell.execute_reply.started": "2024-06-09T22:36:41.663109Z"
    }
   },
   "outputs": [
    {
     "name": "stdout",
     "output_type": "stream",
     "text": [
      "weighted precision: 0.6560824589207148\n",
      "weighted recall: 0.6522693170267349\n",
      "f1 score: 0.6499924151512801\n"
     ]
    },
    {
     "data": {
      "image/png": "[encoded data removed]",
      "text/plain": [
       "<Figure size 640x480 with 1 Axes>"
      ]
     },
     "metadata": {},
     "output_type": "display_data"
    }
   ],
   "source": [
    "# additional metrics\n",
    "evaluator_precision = MulticlassClassificationEvaluator(labelCol=\"label\", predictionCol=\"prediction\", metricName=\"weightedPrecision\")\n",
    "precision = evaluator_precision.evaluate(predictions)\n",
    "print(f\"weighted precision: {precision}\")\n",
    "\n",
    "evaluator_recall = MulticlassClassificationEvaluator(labelCol=\"label\", predictionCol=\"prediction\", metricName=\"weightedRecall\")\n",
    "recall = evaluator_recall.evaluate(predictions)\n",
    "print(f\"weighted recall: {recall}\")\n",
    "\n",
    "evaluator_f1 = MulticlassClassificationEvaluator(labelCol=\"label\", predictionCol=\"prediction\", metricName=\"f1\")\n",
    "f1 = evaluator_f1.evaluate(predictions)\n",
    "print(f\"f1 score: {f1}\")\n",
    "\n",
    "metrics.update({\n",
    "    \"precision\": precision,\n",
    "    \"recall\": recall,\n",
    "    \"f1\": f1\n",
    "})\n",
    "\n",
    "with open(\"logistic_reg_model/metrics.json\", \"w\") as f:\n",
    "    json.dump(metrics, f)\n",
    "\n",
    "# roc and auc\n",
    "predictions_pd = predictions.select(\"label\", \"probability\").toPandas()\n",
    "fpr, tpr, _ = roc_curve(predictions_pd[\"label\"], predictions_pd[\"probability\"].apply(lambda x: x[1]))\n",
    "roc_auc = auc(fpr, tpr)\n",
    "plt.figure()\n",
    "plt.plot(fpr, tpr, color='darkorange', lw=2, label='roc curve (area = %0.2f)' % roc_auc)\n",
    "plt.plot([0, 1], [0, 1], color='navy', lw=2, linestyle='--')\n",
    "plt.xlim([0.0, 1.0])\n",
    "plt.ylim([0.0, 1.05])\n",
    "plt.xlabel('false positive rate')\n",
    "plt.ylabel('true positive rate')\n",
    "plt.title('receiver operating characteristic')\n",
    "plt.legend(loc=\"lower right\")\n",
    "plt.savefig(\"logistic_reg_model/roc_curve.png\")"
   ]
  },
  {
   "cell_type": "code",
   "execution_count": 26,
   "id": "c715de5d-7145-424d-8a78-591364e44f5b",
   "metadata": {
    "execution": {
     "iopub.execute_input": "2024-06-10T00:41:13.900578Z",
     "iopub.status.busy": "2024-06-10T00:41:13.900369Z",
     "iopub.status.idle": "2024-06-10T00:41:14.136536Z",
     "shell.execute_reply": "2024-06-10T00:41:14.136154Z",
     "shell.execute_reply.started": "2024-06-10T00:41:13.900565Z"
    }
   },
   "outputs": [
    {
     "data": {
      "image/png": "[encoded data removed]",
      "text/plain": [
       "<Figure size 640x480 with 1 Axes>"
      ]
     },
     "metadata": {},
     "output_type": "display_data"
    }
   ],
   "source": [
    "# precision-recall curve\n",
    "precision_curve, recall_curve, _ = precision_recall_curve(predictions_pd[\"label\"], predictions_pd[\"probability\"].apply(lambda x: x[1]))\n",
    "plt.figure()\n",
    "plt.plot(recall_curve, precision_curve, color='blue', lw=2)\n",
    "plt.xlabel('recall')\n",
    "plt.ylabel('precision')\n",
    "plt.title('precision-recall curve')\n",
    "plt.savefig(\"logistic_reg_model/precision_recall_curve.png\")"
   ]
  },
  {
   "cell_type": "code",
   "execution_count": 32,
   "id": "b372d960-aa50-4749-9542-e0d9eeab5690",
   "metadata": {
    "execution": {
     "iopub.execute_input": "2024-06-10T05:54:51.233437Z",
     "iopub.status.busy": "2024-06-10T05:54:51.233227Z",
     "iopub.status.idle": "2024-06-10T05:54:51.563144Z",
     "shell.execute_reply": "2024-06-10T05:54:51.562529Z",
     "shell.execute_reply.started": "2024-06-10T05:54:51.233424Z"
    }
   },
   "outputs": [
    {
     "data": {
      "image/png": "[encoded data removed]",
      "text/plain": [
       "<Figure size 800x600 with 1 Axes>"
      ]
     },
     "metadata": {},
     "output_type": "display_data"
    }
   ],
   "source": [
    "import pandas as pd\n",
    "import seaborn as sns\n",
    "import matplotlib.pyplot as plt\n",
    "\n",
    "confusion_data = {\n",
    "    'label': [1, 1, 0, 0],\n",
    "    'prediction': [0.0, 1.0, 0.0, 1.0],\n",
    "    'count': [26477, 35354, 45500, 16627]\n",
    "}\n",
    "\n",
    "df_confusion = pd.DataFrame(confusion_data)\n",
    "\n",
    "# pivot data to create the confusion matrix\n",
    "confusion_matrix = df_confusion.pivot(index='label', columns='prediction', values='count')\n",
    "\n",
    "# annotate the confusion matrix with TP, TN, FP, FN labels\n",
    "confusion_matrix_annotated = confusion_matrix.copy()\n",
    "confusion_matrix_annotated.iloc[0, 0] = f\"TN: {confusion_matrix.iloc[0, 0]}\"\n",
    "confusion_matrix_annotated.iloc[0, 1] = f\"FP: {confusion_matrix.iloc[0, 1]}\"\n",
    "confusion_matrix_annotated.iloc[1, 0] = f\"FN: {confusion_matrix.iloc[1, 0]}\"\n",
    "confusion_matrix_annotated.iloc[1, 1] = f\"TP: {confusion_matrix.iloc[1, 1]}\"\n",
    "\n",
    "# plot confusion matrix with annotations\n",
    "plt.figure(figsize=(8, 6))\n",
    "sns.heatmap(confusion_matrix, annot=confusion_matrix_annotated, fmt=\"\", cmap=\"Blues\", cbar=False)\n",
    "\n",
    "plt.xlabel('Prediction')\n",
    "plt.ylabel('Label')\n",
    "plt.title('Confusion Matrix')\n",
    "plt.savefig(\"logistic_reg_model/confusion_matrix.png\")"
   ]
  },
  {
   "cell_type": "code",
   "execution_count": null,
   "id": "76e80fe6-dc66-4936-b460-8133b3dbf0fc",
   "metadata": {},
   "outputs": [],
   "source": []
  }
 ],
 "metadata": {
  "kernelspec": {
   "display_name": "Python 3 (ipykernel)",
   "language": "python",
   "name": "python3"
  },
  "language_info": {
   "codemirror_mode": {
    "name": "ipython",
    "version": 3
   },
   "file_extension": ".py",
   "mimetype": "text/x-python",
   "name": "python",
   "nbconvert_exporter": "python",
   "pygments_lexer": "ipython3",
   "version": "3.11.6"
  }
 },
 "nbformat": 4,
 "nbformat_minor": 5
}
