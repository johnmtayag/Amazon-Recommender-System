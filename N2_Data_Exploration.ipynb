{
 "cells": [
  {
   "cell_type": "markdown",
   "id": "25381f8e-875c-4aa2-b8ce-820ae7223e2b",
   "metadata": {},
   "source": [
    "# Data Exploration"
   ]
  },
  {
   "cell_type": "code",
   "execution_count": 2,
   "id": "7ca0f75c-01e6-4830-837f-60867bf7007c",
   "metadata": {},
   "outputs": [],
   "source": [
    "# !pip install ipyleaflet\n",
    "\n",
    "# Use these commands in terminal\n",
    "### Install ipyleaflet:                conda install -c conda-forge ipyleaflet\n",
    "### Install Node.js:                   conda install -c anaconda nodejs\n",
    "### Install the JupyterLab extension:  jupyter labextension install @jupyter-widgets/jupyterlab-manager jupyter-leaflet\n",
    "\n",
    "# RUN THE FOLLOWING COMMAND IN JUPYTER TERMINAL\n",
    "# jupyter labextension develop . --overwrite"
   ]
  },
  {
   "cell_type": "code",
   "execution_count": 3,
   "id": "00649e0b-7db6-44d5-a397-bdfc4a32b931",
   "metadata": {},
   "outputs": [
    {
     "name": "stderr",
     "output_type": "stream",
     "text": [
      "Matplotlib created a temporary cache directory at /scratch/jtayag/job_30526772/matplotlib-fj11nuc5 because the default path (/home/jovyan/.cache/matplotlib) is not a writable directory; it is highly recommended to set the MPLCONFIGDIR environment variable to a writable directory, in particular to speed up the import of Matplotlib and to better support multiprocessing.\n",
      "/usr/local/spark/python/pyspark/pandas/__init__.py:50: UserWarning: 'PYARROW_IGNORE_TIMEZONE' environment variable was not set. It is required to set this environment variable to '1' in both driver and executor sides if you use pyarrow>=2.0.0. pandas-on-Spark will set it for you but it does not work if there is a Spark context already launched.\n",
      "  warnings.warn(\n"
     ]
    }
   ],
   "source": [
    "### Import libraries\n",
    "import numpy as np\n",
    "import pandas as pd\n",
    "import seaborn as sns\n",
    "import matplotlib.pyplot as plt\n",
    "import matplotlib.colors\n",
    "\n",
    "import ipyleaflet as ipy\n",
    "\n",
    "from pyspark import SparkContext\n",
    "import pyspark.sql.functions as F\n",
    "from pyspark.sql import SQLContext, SparkSession\n",
    "from pyspark.sql.types import *\n",
    "import pyspark.pandas as ps\n",
    "\n",
    "import pickle"
   ]
  },
  {
   "cell_type": "code",
   "execution_count": 4,
   "id": "fcde264f-fefc-4cf0-8db5-406e3edddaf1",
   "metadata": {},
   "outputs": [
    {
     "name": "stdout",
     "output_type": "stream",
     "text": [
      "Initializing SparkContext\n",
      "<pyspark.sql.session.SparkSession object at 0x15551df2a910>\n"
     ]
    },
    {
     "name": "stderr",
     "output_type": "stream",
     "text": [
      "/usr/local/spark/python/pyspark/sql/context.py:113: FutureWarning: Deprecated in 3.0.0. Use SparkSession.builder.getOrCreate() instead.\n",
      "  warnings.warn(\n"
     ]
    },
    {
     "data": {
      "text/html": [
       "\n",
       "            <div>\n",
       "                <p><b>SparkSession - in-memory</b></p>\n",
       "                \n",
       "        <div>\n",
       "            <p><b>SparkContext</b></p>\n",
       "\n",
       "            <p><a href=\"http://exp-14-26.expanse.sdsc.edu:4041\">Spark UI</a></p>\n",
       "\n",
       "            <dl>\n",
       "              <dt>Version</dt>\n",
       "                <dd><code>v3.5.0</code></dd>\n",
       "              <dt>Master</dt>\n",
       "                <dd><code>local[*]</code></dd>\n",
       "              <dt>AppName</dt>\n",
       "                <dd><code>pyspark-shell</code></dd>\n",
       "            </dl>\n",
       "        </div>\n",
       "        \n",
       "            </div>\n",
       "        "
      ],
      "text/plain": [
       "<pyspark.sql.session.SparkSession at 0x15551df2a910>"
      ]
     },
     "execution_count": 4,
     "metadata": {},
     "output_type": "execute_result"
    }
   ],
   "source": [
    "### Start Spark context\n",
    "driver_memory = \"24g\"\n",
    "executor_memory = \"24g\"\n",
    "n_executors = 16 - 1\n",
    "try:\n",
    "    sc = SparkSession.builder.config(\"spark.driver.memory\", driver_memory) \\\n",
    "                             .config(\"spark.driver.maxResultSize\", \"5g\") \\\n",
    "                             .config(\"spark.executor.memory\", executor_memory) \\\n",
    "                             .config(\"spark.executor.instances\", n_executors) \\\n",
    "                             .getOrCreate()\n",
    "    print(\"Initializing SparkContext\")\n",
    "except:\n",
    "    print(\"Starting new SparkContext\")\n",
    "    sc.stop()\n",
    "    sc = SparkSession.builder.config(\"spark.driver.memory\", driver_memory) \\\n",
    "                             .config(\"spark.driver.maxResultSize\", \"5g\") \\\n",
    "                             .config(\"spark.executor.memory\", executor_memory) \\\n",
    "                             .config(\"spark.executor.instances\", n_executors) \\\n",
    "                             .getOrCreate()\n",
    "print(sc)\n",
    "\n",
    "# Start SQL Context\n",
    "sqlContext = SQLContext(sc)\n",
    "\n",
    "sc.getActiveSession()"
   ]
  },
  {
   "cell_type": "markdown",
   "id": "10ac1353-33b1-4dbb-bed9-6c7b638cf85e",
   "metadata": {},
   "source": [
    "### Acquiring the data:\n",
    "\n",
    "To acquire the datasets, you must first create an account on HuggingFace, then request access as the datasets are gated. Once access is granted, there are two options:\n",
    "\n",
    "1) Download the datasets, then place them in the same directory as this .ipynb file\n",
    "2) Follow the instructions [here](https://huggingface.co/docs/huggingface_hub/en/quick-start) to access the datasets directly in this notebook\n",
    "\n"
   ]
  },
  {
   "cell_type": "code",
   "execution_count": 5,
   "id": "90116b90-5042-4711-a98c-f85b83b62744",
   "metadata": {},
   "outputs": [
    {
     "name": "stdout",
     "output_type": "stream",
     "text": [
      "30min dataset has 2644013376 rows\n",
      "+-------------+-------------------+-----+\n",
      "|generation_wh|           datetime|ss_id|\n",
      "+-------------+-------------------+-----+\n",
      "|          0.0|2010-11-18 00:00:00| 2405|\n",
      "|          0.0|2010-11-18 00:30:00| 2405|\n",
      "|          0.0|2010-11-18 01:00:00| 2405|\n",
      "+-------------+-------------------+-----+\n",
      "only showing top 3 rows\n",
      "\n",
      "Meta dataset has 24662 rows\n",
      "+-----+----------------+-----------------+---------+-----------+----+----+--------------+\n",
      "|ss_id|latitude_rounded|longitude_rounded|  llsoacd|orientation|tilt| kwp|operational_at|\n",
      "+-----+----------------+-----------------+---------+-----------+----+----+--------------+\n",
      "| 2405|           53.53|            -1.63|E01007430|      180.0|35.0|3.36|    2010-11-18|\n",
      "| 2406|           54.88|            -1.38|E01008780|      315.0|30.0|1.89|    2010-12-03|\n",
      "| 2407|           54.88|            -1.38|E01008780|      225.0|30.0|1.89|    2010-12-03|\n",
      "+-----+----------------+-----------------+---------+-----------+----+----+--------------+\n",
      "only showing top 3 rows\n",
      "\n",
      "\n",
      "Table schemas\n",
      "\n",
      "Schema of the 30 min time series data table\n",
      "root\n",
      " |-- generation_wh: double (nullable = true)\n",
      " |-- datetime: timestamp_ntz (nullable = true)\n",
      " |-- ss_id: long (nullable = true)\n",
      "\n",
      "Schema of the metadata table\n",
      "root\n",
      " |-- ss_id: integer (nullable = true)\n",
      " |-- latitude_rounded: double (nullable = true)\n",
      " |-- longitude_rounded: double (nullable = true)\n",
      " |-- llsoacd: string (nullable = true)\n",
      " |-- orientation: double (nullable = true)\n",
      " |-- tilt: double (nullable = true)\n",
      " |-- kwp: double (nullable = true)\n",
      " |-- operational_at: date (nullable = true)\n",
      "\n"
     ]
    }
   ],
   "source": [
    "### Load datasets\n",
    "file_5 = \"5min.parquet\"\n",
    "file_30 = \"30min.parquet\"\n",
    "meta_filename = \"metadata.csv\"\n",
    "\n",
    "df_type = 30\n",
    "# df_type = 5\n",
    "\n",
    "### Open parquet files as Spark Data Frame\n",
    "if df_type == 30:\n",
    "    df = sqlContext.read.load(file_30).cache()\n",
    "elif df_type == 5:\n",
    "    df = sqlContext.read.load(file_5)\n",
    "df_count = df.count()\n",
    "df.createOrReplaceTempView(\"df\")\n",
    "\n",
    "# metadata\n",
    "df_meta = sc.read.csv(meta_filename, inferSchema=True, header=True)\n",
    "df_meta_count = df_meta.count()\n",
    "\n",
    "### Comments\n",
    "print(f\"30min dataset has {df_count} rows\")\n",
    "df.show(3)\n",
    "print(f\"Meta dataset has {df_meta_count} rows\")\n",
    "df_meta.show(3)\n",
    "print(\"\")\n",
    "print(\"Table schemas\")\n",
    "print(\"\")\n",
    "print(\"Schema of the 30 min time series data table\")\n",
    "df.printSchema()\n",
    "print(\"Schema of the metadata table\")\n",
    "df_meta.printSchema()\n",
    "\n",
    "### Since metadata table is so small, convert to Pandas\n",
    "df_meta = df_meta.toPandas()"
   ]
  },
  {
   "cell_type": "code",
   "execution_count": 6,
   "id": "8bc7d9e4-3845-4645-bb88-8d98dd277db2",
   "metadata": {},
   "outputs": [
    {
     "name": "stdout",
     "output_type": "stream",
     "text": [
      "View summary stats for df_meta\n",
      "The kwp column appears to have extreme outliers - these will be deleted from the set\n",
      "\n",
      "              ss_id  latitude_rounded  longitude_rounded   orientation  \\\n",
      "count  24662.000000      24662.000000       24662.000000  24662.000000   \n",
      "mean   14735.512083         52.978670          -1.408723    178.186238   \n",
      "std     7119.471183          1.477928           1.389023     47.040838   \n",
      "min     2405.000000         50.040000          -6.220000      0.000000   \n",
      "25%     8570.250000         51.890000          -2.350000    150.000000   \n",
      "50%    14735.500000         52.600000          -1.480000    180.000000   \n",
      "75%    20900.750000         53.530000          -0.260000    210.000000   \n",
      "max    27067.000000         58.570000           1.750000    355.000000   \n",
      "\n",
      "               tilt           kwp  \n",
      "count  24662.000000  24662.000000  \n",
      "mean      31.545373      3.017693  \n",
      "std        6.077633      3.460297  \n",
      "min        1.000000      0.225000  \n",
      "25%       30.000000      2.280000  \n",
      "50%       30.000000      2.800000  \n",
      "75%       35.000000      3.420000  \n",
      "max       65.000000    215.000000  \n",
      "\n"
     ]
    },
    {
     "data": {
      "image/png": "[encoded data removed]",
      "text/plain": [
       "<Figure size 1000x150 with 1 Axes>"
      ]
     },
     "metadata": {},
     "output_type": "display_data"
    },
    {
     "name": "stdout",
     "output_type": "stream",
     "text": [
      "\n",
      "Number of outliers: 11\n",
      "Outlier IDs listed\n",
      "[6564, 8712, 10618, 17446, 19064, 23524, 24696, 24865, 24962, 24964, 26721]\n",
      "\n",
      "Removing IDs with outlier kwp values from df_meta\n",
      "Number of remaining rows: 24651 (99.955% of original)\n",
      "\n",
      "CPU times: user 117 ms, sys: 14.6 ms, total: 132 ms\n",
      "Wall time: 192 ms\n"
     ]
    }
   ],
   "source": [
    "%%time\n",
    "### Preprocessing\n",
    "print(\"View summary stats for df_meta\")\n",
    "print(\"The kwp column appears to have extreme outliers - these will be deleted from the set\")\n",
    "print()\n",
    "print(df_meta.describe())\n",
    "print()\n",
    "\n",
    "### Remove outliers from the metadata\n",
    "# Locate the upper whisker max: Q3 + 1.5*IQR\n",
    "Q1, Q3 = df_meta[\"kwp\"].quantile(0.25), df_meta[\"kwp\"].quantile(0.75)\n",
    "IQR = Q3-Q1\n",
    "# upper_max = Q3 + 1.5*IQR ################################ Revert to this if keeping some higher kwp values causes issues\n",
    "upper_max = 50 # Arbitrarily set for now to keep some of the higher kwp values\n",
    "outliers = df_meta.loc[df_meta[\"kwp\"] > upper_max, :]\n",
    "outlier_ids = list(outliers[\"ss_id\"])\n",
    "\n",
    "fig,ax = plt.subplots(1,1, figsize=(10,1.5))\n",
    "sns.boxplot(x=df_meta[\"kwp\"], orient=\"h\", width=0.5)\n",
    "plt.title(\"Distribution of kwp\")\n",
    "plt.show()\n",
    "\n",
    "print()\n",
    "print(f\"Number of outliers: {len(outliers)}\")\n",
    "print(\"Outlier IDs listed\")\n",
    "print(outlier_ids)\n",
    "print()\n",
    "\n",
    "print(\"Removing IDs with outlier kwp values from df_meta\")\n",
    "df_meta2 = df_meta.loc[df_meta[\"kwp\"] <= upper_max, :] \n",
    "print(f\"Number of remaining rows: {len(df_meta2)} ({np.round(100 * len(df_meta2) / df_meta_count, 3)}% of original)\")\n",
    "print()\n",
    "\n",
    "# Save valid_ids for later use\n",
    "valid_ids = set(df_meta2[\"ss_id\"])"
   ]
  },
  {
   "cell_type": "code",
   "execution_count": 7,
   "id": "a2ec9744-085b-4bd0-9ecc-fe213f82d8c3",
   "metadata": {},
   "outputs": [
    {
     "name": "stdout",
     "output_type": "stream",
     "text": [
      "Preprocessed 30min dataset\n",
      "+-------------+-----+-------------------+----------+--------+------+----+\n",
      "|generation_wh|ss_id|          timestamp|stamp_date|power_kW|time_i|year|\n",
      "+-------------+-----+-------------------+----------+--------+------+----+\n",
      "|          0.0| 2405|2010-11-18 00:00:00|2010-11-18|     0.0|   0.0|2010|\n",
      "|          0.0| 2405|2010-11-18 00:30:00|2010-11-18|     0.0|   1.0|2010|\n",
      "|          0.0| 2405|2010-11-18 01:00:00|2010-11-18|     0.0|   2.0|2010|\n",
      "+-------------+-----+-------------------+----------+--------+------+----+\n",
      "only showing top 3 rows\n",
      "\n",
      "2643067392 rows remain after preprocessing (99.964222% of total rows)\n",
      "\n",
      "CPU times: user 1.94 s, sys: 481 ms, total: 2.42 s\n",
      "Wall time: 41.4 s\n"
     ]
    }
   ],
   "source": [
    "%%time\n",
    "### Preprocessing for visualizations\n",
    "# Add date and time columns for visualizations\n",
    "# stamp_date: Date as extracted from the timestamp column\n",
    "# stamp_time_m: Number of minutes from midnight on any given day ----> Separated out for now\n",
    "# power_kW: Converting generation_wh which is in Watts*(30 min) to kW\n",
    "\n",
    "# Filter for only remaining rows in df_meta\n",
    "\n",
    "if df_type == 30:\n",
    "    conversion = (60/30) * (1/1000)\n",
    "    df2 = df.where(F.col(\"ss_id\").isin(valid_ids)) \\\n",
    "            .select(\"generation_wh\", \"ss_id\", F.col(\"datetime\").alias(\"timestamp\")) \\\n",
    "            .withColumn(\"stamp_date\", F.to_date(\"timestamp\")) \\\n",
    "            .withColumn(\"power_kW\", F.col(\"generation_wh\") * F.lit(conversion)) \\\n",
    "            .withColumn(\"time_i\", (F.hour(\"timestamp\") * F.lit(60) + F.minute(\"timestamp\")) / 30) \\\n",
    "            .withColumn(\"year\", F.year(\"timestamp\"))\n",
    "elif df_type == 5:\n",
    "    conversion = (60/5) * (1/1000)\n",
    "    df2 = df.where(F.col(\"ss_id\").isin(valid_ids)) \\\n",
    "            .select(\"generation_wh\", \"ss_id\", F.col(\"timestamp\").alias(\"timestamp\")) \\\n",
    "            .withColumn(\"stamp_date\", F.to_date(\"timestamp\")) \\\n",
    "            .withColumn(\"power_kW\", F.col(\"generation_wh\") * F.lit(conversion)) \\\n",
    "            .withColumn(\"time_i\", (F.hour(\"timestamp\") * F.lit(60) + F.minute(\"timestamp\")) / 5) \\\n",
    "            .withColumn(\"year\", F.year(\"timestamp\"))\n",
    "\n",
    "print(\"Preprocessed 30min dataset\")\n",
    "df2.createOrReplaceTempView(\"df2\")\n",
    "df2.show(3)\n",
    "\n",
    "df2_count = df2.count()\n",
    "print(f\"{df2_count} rows remain after preprocessing ({np.round(100 * df2_count/df_count, 6)}% of total rows)\")\n",
    "print()\n"
   ]
  },
  {
   "cell_type": "code",
   "execution_count": 8,
   "id": "7865e97d-e0d7-4fb9-94d5-aa1e927e2980",
   "metadata": {},
   "outputs": [
    {
     "name": "stdout",
     "output_type": "stream",
     "text": [
      "Find the number of data points in each year bucket\n",
      "\n",
      "SELECT year, COUNT(*)\n",
      "FROM df2\n",
      "GROUP BY year;\n",
      "\n"
     ]
    },
    {
     "data": {
      "image/png": "[encoded data removed]",
      "text/plain": [
       "<Figure size 640x480 with 1 Axes>"
      ]
     },
     "metadata": {},
     "output_type": "display_data"
    },
    {
     "name": "stdout",
     "output_type": "stream",
     "text": [
      "CPU times: user 141 ms, sys: 8.72 ms, total: 150 ms\n",
      "Wall time: 1min 1s\n"
     ]
    }
   ],
   "source": [
    "%%time\n",
    "### Find the number of data points in each year bucket\n",
    "\n",
    "# Variables\n",
    "query_desc = \"Find the number of data points in each year bucket\"\n",
    "\n",
    "# Build the query\n",
    "query = \"\"\"\n",
    "SELECT year, COUNT(*)\n",
    "FROM df2\n",
    "GROUP BY year;\n",
    "\"\"\"\n",
    "print(query_desc)\n",
    "print(query)\n",
    "\n",
    "year_counts = sqlContext.sql(query).collect()\n",
    "years = []\n",
    "counts = []\n",
    "for i,year_count in enumerate(year_counts):\n",
    "    years.append(year_counts[i][0])\n",
    "    counts.append(year_counts[i][1])\n",
    "    \n",
    "year_counts2 = pd.DataFrame.from_dict({\"Year\":years, \"Count\":counts})\n",
    "\n",
    "sns.barplot(data=year_counts2, x=\"Year\", y=\"Count\")\n",
    "plt.title(\"Number of Timestamped Data Points Available for each Year\")\n",
    "plt.show()"
   ]
  },
  {
   "cell_type": "code",
   "execution_count": 9,
   "id": "75663563-40d5-4503-a381-4456699a0ef2",
   "metadata": {},
   "outputs": [
    {
     "name": "stdout",
     "output_type": "stream",
     "text": [
      "Viewing some stats on the pre-processed 30 min dataset\n",
      "+-------------------+-------------------+-------------+-------------+------------------+------------------+\n",
      "|     min(timestamp)|     max(timestamp)|min(power_kW)|max(power_kW)|min(generation_wh)|max(generation_wh)|\n",
      "+-------------------+-------------------+-------------+-------------+------------------+------------------+\n",
      "|2010-11-18 00:00:00|2021-09-30 23:30:00|   -1677722.0|     1.514E10|        -8.38861E8|           7.57E12|\n",
      "+-------------------+-------------------+-------------+-------------+------------------+------------------+\n",
      "\n",
      "CPU times: user 7.27 ms, sys: 2.04 ms, total: 9.31 ms\n",
      "Wall time: 45.1 s\n"
     ]
    }
   ],
   "source": [
    "%%time\n",
    "print(\"Viewing some stats on the pre-processed 30 min dataset\")\n",
    "variable_bounds = df2.select(F.min(\"timestamp\"), F.max(\"timestamp\"), \\\n",
    "                              F.min(\"power_kW\"), F.max(\"power_kW\"), \\\n",
    "                              F.min(\"generation_wh\"), F.max(\"generation_wh\") \\\n",
    "                             )\n",
    "variable_bounds.show()"
   ]
  },
  {
   "cell_type": "code",
   "execution_count": 10,
   "id": "50757e30-12ed-434d-b2fd-f1f09b7a83ac",
   "metadata": {},
   "outputs": [
    {
     "name": "stdout",
     "output_type": "stream",
     "text": [
      "Reduce the dataset to only values from May in 2019\n",
      "\n",
      "SELECT *\n",
      "FROM df2\n",
      "WHERE timestamp BETWEEN '2019-05-01 00:00:00' AND '2019-05-30 23:59:59';\n",
      "\n",
      "+-------------+-----+-------------------+----------+--------+------+----+\n",
      "|generation_wh|ss_id|          timestamp|stamp_date|power_kW|time_i|year|\n",
      "+-------------+-----+-------------------+----------+--------+------+----+\n",
      "|         NULL| 2607|2019-05-01 00:00:00|2019-05-01|    NULL|   0.0|2019|\n",
      "|         NULL| 7902|2019-05-01 00:00:00|2019-05-01|    NULL|   0.0|2019|\n",
      "|         NULL|12451|2019-05-01 00:00:00|2019-05-01|    NULL|   0.0|2019|\n",
      "|         NULL|12487|2019-05-01 00:00:00|2019-05-01|    NULL|   0.0|2019|\n",
      "|         NULL|12495|2019-05-01 00:00:00|2019-05-01|    NULL|   0.0|2019|\n",
      "+-------------+-----+-------------------+----------+--------+------+----+\n",
      "only showing top 5 rows\n",
      "\n",
      "CPU times: user 1.48 ms, sys: 2.62 ms, total: 4.11 ms\n",
      "Wall time: 3.65 s\n"
     ]
    }
   ],
   "source": [
    "%%time\n",
    "### For data exploration, reduce the dataset to only a week in 2019\n",
    "\n",
    "# Variables\n",
    "query_desc = \"Reduce the dataset to only values from May in 2019\"\n",
    "timestamp_start = \"2019-05-01 00:00:00\"\n",
    "timestamp_end   = \"2019-05-30 23:59:59\"\n",
    "show_n_results = 5\n",
    "\n",
    "# Build the query\n",
    "query = \"\"\"\n",
    "SELECT *\n",
    "FROM df2\n",
    "WHERE timestamp BETWEEN '%s' AND '%s';\n",
    "\"\"\"%(timestamp_start, timestamp_end)\n",
    "print(query_desc)\n",
    "print(query)\n",
    "df_2019 = sqlContext.sql(query)\n",
    "df_2019.createOrReplaceTempView(\"df_2019\")\n",
    "df_2019.show(show_n_results)\n"
   ]
  },
  {
   "cell_type": "code",
   "execution_count": 11,
   "id": "894c840e-a9d4-49e4-90b2-bd7c36dad199",
   "metadata": {},
   "outputs": [
    {
     "name": "stdout",
     "output_type": "stream",
     "text": [
      "View data from ids [2607, 2660, 14531] on 2019-05-09\n",
      "\n",
      "SELECT *\n",
      "FROM df2\n",
      "WHERE timestamp BETWEEN '2019-05-09 00:00:00' AND '2019-05-09 23:59:59' AND ss_id IN (2607, 2660, 14531);\n",
      "\n",
      "+-------------+-----+-------------------+----------+--------+------+----+\n",
      "|generation_wh|ss_id|          timestamp|stamp_date|power_kW|time_i|year|\n",
      "+-------------+-----+-------------------+----------+--------+------+----+\n",
      "|          0.0| 2660|2019-05-09 00:00:00|2019-05-09|     0.0|   0.0|2019|\n",
      "|          0.0| 2607|2019-05-09 00:00:00|2019-05-09|     0.0|   0.0|2019|\n",
      "|          0.0|14531|2019-05-09 00:00:00|2019-05-09|     0.0|   0.0|2019|\n",
      "|          0.0|14531|2019-05-09 00:30:00|2019-05-09|     0.0|   1.0|2019|\n",
      "|          0.0| 2607|2019-05-09 00:30:00|2019-05-09|     0.0|   1.0|2019|\n",
      "+-------------+-----+-------------------+----------+--------+------+----+\n",
      "only showing top 5 rows\n",
      "\n"
     ]
    },
    {
     "data": {
      "image/png": "[encoded data removed]",
      "text/plain": [
       "<Figure size 1500x300 with 3 Axes>"
      ]
     },
     "metadata": {},
     "output_type": "display_data"
    },
    {
     "name": "stdout",
     "output_type": "stream",
     "text": [
      "CPU times: user 286 ms, sys: 12.8 ms, total: 299 ms\n",
      "Wall time: 10.9 s\n"
     ]
    }
   ],
   "source": [
    "%%time\n",
    "# View a plot from a single day\n",
    "# Variables\n",
    "ss_ids = [2607, 2660, 14531]\n",
    "date_val = \"2019-05-09\"\n",
    "timestamp_start = f\"{date_val} 00:00:00\"\n",
    "timestamp_end = f\"{date_val} 23:59:59\"\n",
    "ss_id = \"\".join(str(ss_ids))[1:-1]\n",
    "show_n_results = 5\n",
    "\n",
    "# Build the query\n",
    "query_desc = f\"View data from ids [{ss_id}] on {date_val}\"\n",
    "query = \"\"\"\n",
    "SELECT *\n",
    "FROM df2\n",
    "WHERE timestamp BETWEEN '%s' AND '%s' AND ss_id IN (%s);\n",
    "\"\"\"%(timestamp_start, timestamp_end, ss_id)\n",
    "\n",
    "# Run the query\n",
    "print(query_desc)\n",
    "print(query)\n",
    "result = sqlContext.sql(query)\n",
    "result.show(show_n_results)\n",
    "\n",
    "# Plot subplots\n",
    "fig, axes = plt.subplots(1,3, figsize=(15,3))\n",
    "plt.suptitle(f\"Example Power Generation Curves From {date_val}\")\n",
    "plt.subplots_adjust(left=0.1, bottom=0.1, right=0.9, \n",
    "                    top=.8, wspace=0.3,hspace=0.3)\n",
    "for i,(ss_id,ax) in enumerate(zip(ss_ids, axes.flatten())):\n",
    "    result_df = result.where(F.col(\"ss_id\") == ss_id).toPandas()\n",
    "    sns.lineplot(data=result_df, x=\"time_i\", y=\"power_kW\", ax=ax)\n",
    "    ax.set_title(f\"ss_id = {ss_id}\")\n",
    "    ax.set_xlabel(\"Time (# Timestamps from 00:00:00)\")\n",
    "    ax.set_ylabel(\"Power Generation (kW)\")\n",
    "    ax.tick_params(axis=\"x\", labelrotation=25)\n",
    "    # plt.gcf().axes[i].xaxis.set_major_formatter(date_formatter)\n",
    "    # ax.get_legend().remove()\n",
    "    ax.set_ylim(0, 1.5)\n",
    "plt.show()"
   ]
  },
  {
   "cell_type": "code",
   "execution_count": 12,
   "id": "a9fb07d5-029e-4cb0-965c-de050a73135e",
   "metadata": {},
   "outputs": [
    {
     "name": "stdout",
     "output_type": "stream",
     "text": [
      "View data from id 2607, 2660, 14531 from 2019-05-01 to 2019-05-07\n",
      "\n",
      "SELECT *\n",
      "FROM df2\n",
      "WHERE timestamp BETWEEN '2019-05-01 00:00:00' AND '2019-05-07 23:59:59' AND ss_id IN (2607, 2660, 14531);\n",
      "\n",
      "+-------------+-----+-------------------+----------+--------+------+----+\n",
      "|generation_wh|ss_id|          timestamp|stamp_date|power_kW|time_i|year|\n",
      "+-------------+-----+-------------------+----------+--------+------+----+\n",
      "|         NULL| 2607|2019-05-01 00:00:00|2019-05-01|    NULL|   0.0|2019|\n",
      "|         NULL|14531|2019-05-01 00:00:00|2019-05-01|    NULL|   0.0|2019|\n",
      "|         NULL| 2660|2019-05-01 00:00:00|2019-05-01|    NULL|   0.0|2019|\n",
      "|          0.0|14531|2019-05-01 00:30:00|2019-05-01|     0.0|   1.0|2019|\n",
      "|          0.0| 2607|2019-05-01 00:30:00|2019-05-01|     0.0|   1.0|2019|\n",
      "+-------------+-----+-------------------+----------+--------+------+----+\n",
      "only showing top 5 rows\n",
      "\n"
     ]
    },
    {
     "data": {
      "image/png": "[encoded data removed]",
      "text/plain": [
       "<Figure size 1500x1200 with 3 Axes>"
      ]
     },
     "metadata": {},
     "output_type": "display_data"
    },
    {
     "name": "stdout",
     "output_type": "stream",
     "text": [
      "CPU times: user 346 ms, sys: 20.3 ms, total: 366 ms\n",
      "Wall time: 11.6 s\n"
     ]
    }
   ],
   "source": [
    "%%time\n",
    "# View a plot from a single week\n",
    "# Variables\n",
    "ss_ids = [2607, 2660, 14531]\n",
    "timestamp_start = \"2019-05-01 00:00:00\"\n",
    "timestamp_end = \"2019-05-07 23:59:59\"\n",
    "ss_id = \"\".join(str(ss_ids))[1:-1]\n",
    "show_n_results = 5\n",
    "\n",
    "# Build the query\n",
    "query_desc = f\"View data from id {ss_id} from 2019-05-01 to 2019-05-07\"\n",
    "query = \"\"\"\n",
    "SELECT *\n",
    "FROM df2\n",
    "WHERE timestamp BETWEEN '%s' AND '%s' AND ss_id IN (%s);\n",
    "\"\"\"%(timestamp_start, timestamp_end, ss_id)\n",
    "\n",
    "# Run the query\n",
    "print(query_desc)\n",
    "print(query)\n",
    "result = sqlContext.sql(query)\n",
    "result.show(show_n_results)\n",
    "\n",
    "# Plot subplots\n",
    "fig, axes = plt.subplots(3,1, figsize=(15,12))\n",
    "plt.suptitle(\"Example Weekly Power Generation Curves\")\n",
    "plt.subplots_adjust(bottom=0.3, top=0.9, wspace=0.1,hspace=0.6)\n",
    "for i,(ss_id,ax) in enumerate(zip(ss_ids, axes.flatten())):\n",
    "    result.where(F.col(\"ss_id\") == ss_id).toPandas().plot(x=\"timestamp\", y=\"power_kW\", ax=ax)\n",
    "    ax.set_title(f\"ss_id = {ss_id}\")\n",
    "    ax.set_ylabel(\"Power Generation (kW)\")\n",
    "    ax.tick_params(axis=\"x\", labelrotation=0)\n",
    "    ax.get_legend().remove()\n",
    "    ax.set_ylim(0, 3)\n",
    "    if i==2:\n",
    "        ax.set_xlabel(\"Date\")\n",
    "    else:\n",
    "        ax.set_xlabel(\"\")\n",
    "plt.show()"
   ]
  },
  {
   "cell_type": "code",
   "execution_count": 13,
   "id": "1bf6b882-53b5-44e2-811c-5b7f3745eb7c",
   "metadata": {},
   "outputs": [
    {
     "name": "stdout",
     "output_type": "stream",
     "text": [
      "+-------------------+------------------+--------------+\n",
      "|numNulls_generation|numNulls_timestamp|numNulls_ss_id|\n",
      "+-------------------+------------------+--------------+\n",
      "|            1824316|                 0|             0|\n",
      "+-------------------+------------------+--------------+\n",
      "\n",
      "1824316 null values in generation_wh (0.068998% of the total row count)\n",
      "Since there are so relatively few null values, these will be dropped\n",
      "\n",
      "CPU times: user 10.3 ms, sys: 7.31 ms, total: 17.6 ms\n",
      "Wall time: 1min 21s\n"
     ]
    }
   ],
   "source": [
    "%%time\n",
    "### Find the number of null energy values\n",
    "query_desc = \"Find the number of null energy values\"\n",
    "null_counts = df2.agg(F.sum(F.when(F.col(\"generation_wh\").isNull(), 1).otherwise(0)).alias(\"numNulls_generation\"), \\\n",
    "                      F.sum(F.when(F.col(\"timestamp\").isNull(), 1).otherwise(0)).alias(\"numNulls_timestamp\"), \\\n",
    "                      F.sum(F.when(F.col(\"ss_id\").isNull(), 1).otherwise(0)).alias(\"numNulls_ss_id\") \\\n",
    "                     ) \n",
    "null_counts.show()\n",
    "null_counts = null_counts.collect()[0][0]\n",
    "numNulls_generation = null_counts\n",
    "print(f\"{numNulls_generation} null values in generation_wh ({np.round(100*numNulls_generation/df_count, 6)}% of the total row count)\")\n",
    "print(f\"Since there are so relatively few null values, these will be dropped\")\n",
    "print(\"\")"
   ]
  },
  {
   "cell_type": "code",
   "execution_count": 14,
   "id": "41d9cf76-c457-4aab-b22a-3f6f12b24075",
   "metadata": {},
   "outputs": [
    {
     "name": "stdout",
     "output_type": "stream",
     "text": [
      "Count the total number of date/id groupings in this dataset without complete data\n",
      "\n",
      "SELECT ss_id AS incomplete_ss_id, stamp_date AS incomplete_stamp_date\n",
      "FROM df2\n",
      "WHERE generation_wh IS NOT NULL\n",
      "GROUP BY ss_id, stamp_date\n",
      "HAVING COUNT(*) < 48.0\n",
      "\n",
      "query complete\n",
      "144730 date/ID groupings without all 48.0 timestamps (0.005% of all date/ID groupings)\n",
      "Since this fraction is relatively low, these will be filtered out to ensure analysis is only on data with all 48 timestamps\n",
      "\n",
      "CPU times: user 1.05 s, sys: 37.4 ms, total: 1.09 s\n",
      "Wall time: 3min 13s\n"
     ]
    }
   ],
   "source": [
    "%%time\n",
    "### Find the number of date/ID pairings without all timestamps and/or with NULL values\n",
    "if df_type == 30:\n",
    "    max_timestamps = 24*60/30\n",
    "elif df_type == 5:\n",
    "    max_timestamps = 24*60/5\n",
    "    \n",
    "query_desc = \"Count the total number of date/id groupings in this dataset without complete data\"\n",
    "query = \"\"\"\n",
    "SELECT ss_id AS incomplete_ss_id, stamp_date AS incomplete_stamp_date\n",
    "FROM df2\n",
    "WHERE generation_wh IS NOT NULL\n",
    "GROUP BY ss_id, stamp_date\n",
    "HAVING COUNT(*) < %s\n",
    "\"\"\"%(max_timestamps)\n",
    "\n",
    "print(query_desc)\n",
    "print(query)\n",
    "incomplete_data = sqlContext.sql(query).toPandas()\n",
    "print(\"query complete\")\n",
    "incomplete_data.to_csv(\"incomplete_data.csv\", header=True, index=False)\n",
    "\n",
    "count_dates_withoutAllTimestamps = len(incomplete_data)\n",
    "print(f\"{count_dates_withoutAllTimestamps} date/ID groupings without all {max_timestamps} timestamps ({np.round(100 * count_dates_withoutAllTimestamps/df_count, 3)}% of all date/ID groupings)\")\n",
    "print(\"Since this fraction is relatively low, these will be filtered out to ensure analysis is only on data with all 48 timestamps\")\n",
    "print(\"\")"
   ]
  },
  {
   "cell_type": "code",
   "execution_count": 15,
   "id": "4ad01415-c7a3-4d55-a8e1-24f99c968cf6",
   "metadata": {},
   "outputs": [
    {
     "data": {
      "text/html": [
       "<div>\n",
       "<style scoped>\n",
       "    .dataframe tbody tr th:only-of-type {\n",
       "        vertical-align: middle;\n",
       "    }\n",
       "\n",
       "    .dataframe tbody tr th {\n",
       "        vertical-align: top;\n",
       "    }\n",
       "\n",
       "    .dataframe thead th {\n",
       "        text-align: right;\n",
       "    }\n",
       "</style>\n",
       "<table border=\"1\" class=\"dataframe\">\n",
       "  <thead>\n",
       "    <tr style=\"text-align: right;\">\n",
       "      <th></th>\n",
       "      <th>index</th>\n",
       "      <th>incomplete_ss_id</th>\n",
       "      <th>incomplete_stamp_date</th>\n",
       "    </tr>\n",
       "  </thead>\n",
       "  <tbody>\n",
       "    <tr>\n",
       "      <th>0</th>\n",
       "      <td>0</td>\n",
       "      <td>3021</td>\n",
       "      <td>2011-11-07</td>\n",
       "    </tr>\n",
       "    <tr>\n",
       "      <th>1</th>\n",
       "      <td>1</td>\n",
       "      <td>3094</td>\n",
       "      <td>2011-11-10</td>\n",
       "    </tr>\n",
       "    <tr>\n",
       "      <th>2</th>\n",
       "      <td>2</td>\n",
       "      <td>2827</td>\n",
       "      <td>2011-11-11</td>\n",
       "    </tr>\n",
       "  </tbody>\n",
       "</table>\n",
       "</div>"
      ],
      "text/plain": [
       "   index  incomplete_ss_id incomplete_stamp_date\n",
       "0      0              3021            2011-11-07\n",
       "1      1              3094            2011-11-10\n",
       "2      2              2827            2011-11-11"
      ]
     },
     "execution_count": 15,
     "metadata": {},
     "output_type": "execute_result"
    }
   ],
   "source": [
    "incomplete_data = pd.read_csv(\"incomplete_data.csv\")\n",
    "incomplete_data.reset_index(inplace=True)\n",
    "\n",
    "incomplete_data.head(3)"
   ]
  },
  {
   "cell_type": "code",
   "execution_count": 16,
   "id": "2685c260-4dc6-42d4-89b1-f16b1b30f93e",
   "metadata": {},
   "outputs": [
    {
     "name": "stdout",
     "output_type": "stream",
     "text": [
      "2399619984 rows remain after preprocessing (90.756726% of total rows)\n",
      "\n",
      "CPU times: user 26.3 s, sys: 6.55 s, total: 32.9 s\n",
      "Wall time: 3min 17s\n"
     ]
    }
   ],
   "source": [
    "%%time\n",
    "### Final preprocessing\n",
    "# Collect the timestamp values into a list for each date/ID pairing\n",
    "\n",
    "incomplete_data = pd.read_csv(\"incomplete_data.csv\")\n",
    "incomplete_ss_id = list(incomplete_data[\"incomplete_ss_id\"])\n",
    "incomplete_date = list(incomplete_data[\"incomplete_stamp_date\"])\n",
    "\n",
    "if df_type == 30:\n",
    "    max_timestamps = 24*60/30\n",
    "    conversion = (60/30) * (1/1000)\n",
    "    df2 = df.where(F.col(\"ss_id\").isin(valid_ids)) \\\n",
    "            .select(\"generation_wh\", \"ss_id\", F.col(\"datetime\").alias(\"timestamp\")) \\\n",
    "            .withColumn(\"stamp_date\", F.to_date(\"timestamp\")) \\\n",
    "            .where(~((F.col(\"ss_id\").isin(incomplete_ss_id)) & (F.col(\"stamp_date\").isin(incomplete_date)))) \\\n",
    "            .withColumn(\"time_i\", (F.hour(\"timestamp\") * F.lit(60) + F.minute(\"timestamp\")) / 30) \\\n",
    "            .withColumn(\"power_kW\", F.col(\"generation_wh\") * F.lit(conversion))\n",
    "elif df_type == 5:\n",
    "    max_timestamps = 24*60/5\n",
    "    conversion = (60/5) * (1/1000)\n",
    "    df2 = df.where(F.col(\"ss_id\").isin(valid_ids)) \\\n",
    "            .select(\"generation_wh\", \"ss_id\", F.col(\"timestamp\").alias(\"timestamp\")) \\\n",
    "            .withColumn(\"stamp_date\", F.to_date(\"timestamp\")) \\\n",
    "            .where(~((F.col(\"ss_id\").isin(incomplete_ss_id)) & (F.col(\"stamp_date\").isin(incomplete_date)))) \\\n",
    "            .withColumn(\"time_i\", (F.hour(\"timestamp\") * F.lit(60) + F.minute(\"timestamp\")) / 5) \\\n",
    "            .withColumn(\"power_kW\", F.col(\"generation_wh\") * F.lit(conversion))\n",
    "\n",
    "df2_count = df2.count()\n",
    "print(f\"{df2_count} rows remain after preprocessing ({np.round(100 * df2_count/df_count, 6)}% of total rows)\")\n",
    "print(\"\")\n"
   ]
  },
  {
   "cell_type": "code",
   "execution_count": 17,
   "id": "6593133e-338c-4e1e-be32-6f5a023881bc",
   "metadata": {},
   "outputs": [
    {
     "name": "stdout",
     "output_type": "stream",
     "text": [
      "Filter for metadata rows on ss_ids that are in df\n",
      "\n",
      "SELECT ss_id\n",
      "FROM df2;\n",
      "\n",
      "Number of rows in df_meta: 24662\n",
      "Number of rows in filtered df_meta: 24299 (98.5281% of total rows)\n",
      "\n",
      "CPU times: user 19 ms, sys: 5.59 ms, total: 24.6 ms\n",
      "Wall time: 1min 40s\n"
     ]
    }
   ],
   "source": [
    "%%time\n",
    "### Filter for metadata rows on ss_ids that are in df2\n",
    "query_desc = \"Filter for metadata rows on ss_ids that are in df\"\n",
    "\n",
    "query = \"\"\"\n",
    "SELECT ss_id\n",
    "FROM df2;\n",
    "\"\"\"\n",
    "\n",
    "print(query_desc)\n",
    "print(query)\n",
    "distinct_ss_ids = df2.agg(F.collect_set(\"ss_id\")).collect()[0][0]\n",
    "df_meta3 = df_meta2[df_meta2[\"ss_id\"].isin(distinct_ss_ids)]\n",
    "df_meta_count3 = len(df_meta3)\n",
    "\n",
    "print(f\"Number of rows in df_meta: {df_meta_count}\")\n",
    "print(f\"Number of rows in filtered df_meta: {df_meta_count3} ({np.round(100 * df_meta_count3/df_meta_count, 6)}% of total rows)\")\n",
    "print(\"\")"
   ]
  },
  {
   "cell_type": "code",
   "execution_count": 18,
   "id": "1464b8ef-9f0c-4f4d-b10f-aaa06c59bfb3",
   "metadata": {},
   "outputs": [
    {
     "name": "stdout",
     "output_type": "stream",
     "text": [
      "View summary stats on preprocessed df_meta\n",
      "<class 'pandas.core.frame.DataFrame'>\n",
      "RangeIndex: 24299 entries, 0 to 24298\n",
      "Data columns (total 8 columns):\n",
      " #   Column             Non-Null Count  Dtype  \n",
      "---  ------             --------------  -----  \n",
      " 0   ss_id              24299 non-null  int64  \n",
      " 1   latitude_rounded   24299 non-null  float64\n",
      " 2   longitude_rounded  24299 non-null  float64\n",
      " 3   llsoacd            24299 non-null  object \n",
      " 4   orientation        24299 non-null  float64\n",
      " 5   tilt               24299 non-null  float64\n",
      " 6   kwp                24299 non-null  float64\n",
      " 7   operational_at     24281 non-null  object \n",
      "dtypes: float64(5), int64(1), object(2)\n",
      "memory usage: 1.5+ MB\n"
     ]
    },
    {
     "data": {
      "text/html": [
       "<div>\n",
       "<style scoped>\n",
       "    .dataframe tbody tr th:only-of-type {\n",
       "        vertical-align: middle;\n",
       "    }\n",
       "\n",
       "    .dataframe tbody tr th {\n",
       "        vertical-align: top;\n",
       "    }\n",
       "\n",
       "    .dataframe thead th {\n",
       "        text-align: right;\n",
       "    }\n",
       "</style>\n",
       "<table border=\"1\" class=\"dataframe\">\n",
       "  <thead>\n",
       "    <tr style=\"text-align: right;\">\n",
       "      <th></th>\n",
       "      <th>ss_id</th>\n",
       "      <th>latitude_rounded</th>\n",
       "      <th>longitude_rounded</th>\n",
       "      <th>orientation</th>\n",
       "      <th>tilt</th>\n",
       "      <th>kwp</th>\n",
       "    </tr>\n",
       "  </thead>\n",
       "  <tbody>\n",
       "    <tr>\n",
       "      <th>count</th>\n",
       "      <td>24299.000000</td>\n",
       "      <td>24299.000000</td>\n",
       "      <td>24299.000000</td>\n",
       "      <td>24299.000000</td>\n",
       "      <td>24299.000000</td>\n",
       "      <td>24299.000000</td>\n",
       "    </tr>\n",
       "    <tr>\n",
       "      <th>mean</th>\n",
       "      <td>14591.825960</td>\n",
       "      <td>52.989486</td>\n",
       "      <td>-1.401896</td>\n",
       "      <td>178.082843</td>\n",
       "      <td>31.507758</td>\n",
       "      <td>2.967349</td>\n",
       "    </tr>\n",
       "    <tr>\n",
       "      <th>std</th>\n",
       "      <td>7028.149292</td>\n",
       "      <td>1.476230</td>\n",
       "      <td>1.388700</td>\n",
       "      <td>47.110187</td>\n",
       "      <td>6.045058</td>\n",
       "      <td>2.285005</td>\n",
       "    </tr>\n",
       "    <tr>\n",
       "      <th>min</th>\n",
       "      <td>2405.000000</td>\n",
       "      <td>50.040000</td>\n",
       "      <td>-6.220000</td>\n",
       "      <td>0.000000</td>\n",
       "      <td>1.000000</td>\n",
       "      <td>0.225000</td>\n",
       "    </tr>\n",
       "    <tr>\n",
       "      <th>25%</th>\n",
       "      <td>8512.500000</td>\n",
       "      <td>51.900000</td>\n",
       "      <td>-2.330000</td>\n",
       "      <td>150.000000</td>\n",
       "      <td>30.000000</td>\n",
       "      <td>2.280000</td>\n",
       "    </tr>\n",
       "    <tr>\n",
       "      <th>50%</th>\n",
       "      <td>14597.000000</td>\n",
       "      <td>52.600000</td>\n",
       "      <td>-1.480000</td>\n",
       "      <td>180.000000</td>\n",
       "      <td>30.000000</td>\n",
       "      <td>2.800000</td>\n",
       "    </tr>\n",
       "    <tr>\n",
       "      <th>75%</th>\n",
       "      <td>20676.500000</td>\n",
       "      <td>53.530000</td>\n",
       "      <td>-0.260000</td>\n",
       "      <td>210.000000</td>\n",
       "      <td>35.000000</td>\n",
       "      <td>3.420000</td>\n",
       "    </tr>\n",
       "    <tr>\n",
       "      <th>max</th>\n",
       "      <td>26770.000000</td>\n",
       "      <td>58.570000</td>\n",
       "      <td>1.750000</td>\n",
       "      <td>355.000000</td>\n",
       "      <td>65.000000</td>\n",
       "      <td>50.000000</td>\n",
       "    </tr>\n",
       "  </tbody>\n",
       "</table>\n",
       "</div>"
      ],
      "text/plain": [
       "              ss_id  latitude_rounded  longitude_rounded   orientation  \\\n",
       "count  24299.000000      24299.000000       24299.000000  24299.000000   \n",
       "mean   14591.825960         52.989486          -1.401896    178.082843   \n",
       "std     7028.149292          1.476230           1.388700     47.110187   \n",
       "min     2405.000000         50.040000          -6.220000      0.000000   \n",
       "25%     8512.500000         51.900000          -2.330000    150.000000   \n",
       "50%    14597.000000         52.600000          -1.480000    180.000000   \n",
       "75%    20676.500000         53.530000          -0.260000    210.000000   \n",
       "max    26770.000000         58.570000           1.750000    355.000000   \n",
       "\n",
       "               tilt           kwp  \n",
       "count  24299.000000  24299.000000  \n",
       "mean      31.507758      2.967349  \n",
       "std        6.045058      2.285005  \n",
       "min        1.000000      0.225000  \n",
       "25%       30.000000      2.280000  \n",
       "50%       30.000000      2.800000  \n",
       "75%       35.000000      3.420000  \n",
       "max       65.000000     50.000000  "
      ]
     },
     "execution_count": 18,
     "metadata": {},
     "output_type": "execute_result"
    }
   ],
   "source": [
    "### View summary stats on the remaining IDs\n",
    "df_meta3.to_csv(\"metadata_preprocessed.csv\", header=True, index=False)\n",
    "df_meta3 = pd.read_csv(\"metadata_preprocessed.csv\")\n",
    "print(\"View summary stats on preprocessed df_meta\")\n",
    "df_meta3.info()\n",
    "df_meta3.describe()"
   ]
  },
  {
   "cell_type": "code",
   "execution_count": 19,
   "id": "6d346fc9-ea24-4741-95db-33ddbff8aa6e",
   "metadata": {},
   "outputs": [
    {
     "name": "stdout",
     "output_type": "stream",
     "text": [
      "Min values\n",
      "latitude_rounded     50.10\n",
      "longitude_rounded    -5.61\n",
      "orientation           1.00\n",
      "tilt                  1.00\n",
      "kwp                   0.50\n",
      "dtype: float64\n",
      "\n",
      "Max values\n",
      "latitude_rounded      58.53\n",
      "longitude_rounded      1.72\n",
      "orientation          355.00\n",
      "tilt                  63.00\n",
      "kwp                   50.00\n",
      "dtype: float64\n",
      "\n",
      "CPU times: user 3.45 ms, sys: 0 ns, total: 3.45 ms\n",
      "Wall time: 3.32 ms\n"
     ]
    }
   ],
   "source": [
    "%%time\n",
    "# Set up necessary variables\n",
    "map_df_meta = df_meta3.sample(frac=0.25)\n",
    "columns = [\"latitude_rounded\", \"longitude_rounded\", \"orientation\", \"tilt\", \"kwp\"]\n",
    "min_values = map_df_meta[columns].min()\n",
    "max_values = map_df_meta[columns].max()\n",
    "\n",
    "print(\"Min values\")\n",
    "print(min_values)\n",
    "print()\n",
    "print(\"Max values\")\n",
    "print(max_values)\n",
    "\n",
    "min_lat, min_long, min_orient, min_tilt, min_kwp = min_values\n",
    "max_lat, max_long, max_orient, max_tilt, max_kwp = max_values\n",
    "print()"
   ]
  },
  {
   "cell_type": "code",
   "execution_count": 32,
   "id": "a935031a-a9fb-426a-8907-9d3948429df6",
   "metadata": {},
   "outputs": [
    {
     "data": {
      "application/vnd.jupyter.widget-view+json": {
       "model_id": "f413d341dc8a493996a423bd39737cee",
       "version_major": 2,
       "version_minor": 0
      },
      "text/plain": [
       "Map(center=[54.315, -1.9450000000000003], controls=(ZoomControl(options=['position', 'zoom_in_text', 'zoom_in_…"
      ]
     },
     "execution_count": 32,
     "metadata": {},
     "output_type": "execute_result"
    }
   ],
   "source": [
    "# %%time\n",
    "### Plot ONLY filtered stations on the map\n",
    "\n",
    "# Map Vars\n",
    "map_center = [np.mean([min_lat, max_lat]), np.mean([min_long, max_long])]\n",
    "zoom = 5\n",
    "\n",
    "m = ipy.Map( \\\n",
    "           basemap= ipy.basemaps.OpenStreetMap.Mapnik, \\\n",
    "           default_tiles= ipy.TileLayer(opacity=1.0), \\\n",
    "           center=map_center, \\\n",
    "           zoom=zoom \\\n",
    "          )\n",
    "# m.layout.width = \"900px\"\n",
    "# m.layout.height = \"900px\"\n",
    "\n",
    "# Plot each system as a circle where the color indicates presence in dataset\n",
    "color = \"blue\"\n",
    "circles = []\n",
    "\n",
    "\n",
    "for i,row in map_df_meta.iterrows():\n",
    "    latitude = row[\"latitude_rounded\"]\n",
    "    longitude = row[\"longitude_rounded\"]\n",
    "    \n",
    "    c = ipy.Circle(location=(latitude, longitude), \\\n",
    "                  color = color, \\\n",
    "                  opacity = 0.1, \\\n",
    "                  fill_opacity = 0.1,\\\n",
    "                  fill_color = color \\\n",
    "                  )\n",
    "    m += c\n",
    "    \n",
    "m"
   ]
  },
  {
   "cell_type": "code",
   "execution_count": 33,
   "id": "493568fa-7562-452e-a4bc-8f90d18a52b9",
   "metadata": {},
   "outputs": [
    {
     "name": "stdout",
     "output_type": "stream",
     "text": [
      "Plotting Stations Colored by Power Generation Rating (kwp)\n",
      "\n"
     ]
    },
    {
     "data": {
      "application/vnd.jupyter.widget-view+json": {
       "model_id": "9bff0229d85346f3beabd1e1bbe9bc1d",
       "version_major": 2,
       "version_minor": 0
      },
      "text/plain": [
       "Map(center=[54.315, -1.9450000000000003], controls=(ZoomControl(options=['position', 'zoom_in_text', 'zoom_in_…"
      ]
     },
     "execution_count": 33,
     "metadata": {},
     "output_type": "execute_result"
    },
    {
     "data": {
      "image/png": "[encoded data removed]",
      "text/plain": [
       "<Figure size 640x480 with 1 Axes>"
      ]
     },
     "metadata": {},
     "output_type": "display_data"
    }
   ],
   "source": [
    "#%%time\n",
    "print(\"Plotting Stations Colored by Power Generation Rating (kwp)\")\n",
    "print()\n",
    "### Plot stations according to kwp\n",
    "m = ipy.Map( \\\n",
    "           basemap= ipy.basemaps.OpenStreetMap.Mapnik, \\\n",
    "           default_tiles= ipy.TileLayer(opacity=1.0), \\\n",
    "           center=map_center, \\\n",
    "           zoom=zoom \\\n",
    "          )\n",
    "\n",
    "# Plot each system as a circle where the color indicates presence in dataset\n",
    "# Color represents another value\n",
    "\n",
    "color_col = \"kwp\"\n",
    "min_values = min_kwp\n",
    "max_values = max_kwp\n",
    "\n",
    "colorbar_base = matplotlib.cm.cool(np.arange(0,1,0.005))[:, :3]\n",
    "colorbar_shaped = np.stack([colorbar_base]*5)\n",
    "xticks_scaled = (colorbar_shaped.shape[1] - min_values) / (max_values - min_values)\n",
    "\n",
    "plt.imshow(colorbar_shaped)\n",
    "plt.yticks(())\n",
    "plt.xticks((0, colorbar_shaped.shape[1]), [min_values, max_values])\n",
    "\n",
    "circles = []\n",
    "\n",
    "for i,row in map_df_meta.sort_values(by=\"kwp\", ascending=True).iterrows():\n",
    "    latitude = row[\"latitude_rounded\"]\n",
    "    longitude = row[\"longitude_rounded\"]\n",
    "    value = row[color_col]\n",
    "    scaled_value = (value - min_values) / (max_values - min_values)\n",
    "    color = matplotlib.colors.rgb2hex(matplotlib.cm.cool(scaled_value))\n",
    "    if value > 5:\n",
    "        opacity = 1\n",
    "        fill_color = 1\n",
    "    else:\n",
    "        opacity = 0.2\n",
    "        fill_color = 0.2\n",
    "    \n",
    "    c = ipy.Circle(location=(latitude, longitude), \\\n",
    "                  color = color, \\\n",
    "                  opacity = 0.2, \\\n",
    "                  fill_opacity = 0.2,\\\n",
    "                  fill_color = color \\\n",
    "                  )\n",
    "    m += c\n",
    "    \n",
    "m"
   ]
  },
  {
   "cell_type": "code",
   "execution_count": 36,
   "id": "0c066697-82c6-4cf9-a14a-c61d32fe29fe",
   "metadata": {},
   "outputs": [
    {
     "name": "stdout",
     "output_type": "stream",
     "text": [
      "Plotting Stations Colored by Orientation\n",
      "\n"
     ]
    },
    {
     "data": {
      "application/vnd.jupyter.widget-view+json": {
       "model_id": "a740b67ace134131a7ee086d1571ce6d",
       "version_major": 2,
       "version_minor": 0
      },
      "text/plain": [
       "Map(center=[54.315, -1.9450000000000003], controls=(ZoomControl(options=['position', 'zoom_in_text', 'zoom_in_…"
      ]
     },
     "execution_count": 36,
     "metadata": {},
     "output_type": "execute_result"
    },
    {
     "data": {
      "image/png": "[encoded data removed]",
      "text/plain": [
       "<Figure size 640x480 with 1 Axes>"
      ]
     },
     "metadata": {},
     "output_type": "display_data"
    }
   ],
   "source": [
    "#%%time\n",
    "print(\"Plotting Stations Colored by Orientation\")\n",
    "print()\n",
    "### Plot stations according to orientation\n",
    "m = ipy.Map( \\\n",
    "           basemap= ipy.basemaps.OpenStreetMap.Mapnik, \\\n",
    "           default_tiles= ipy.TileLayer(opacity=1.0), \\\n",
    "           center=map_center, \\\n",
    "           zoom=zoom \\\n",
    "          )\n",
    "\n",
    "# Plot each system as a circle where the color indicates presence in dataset\n",
    "# Color represents another value\n",
    "color_col = \"orientation\"\n",
    "min_values = min_orient\n",
    "max_values = max_orient\n",
    "\n",
    "colorbar_base = matplotlib.cm.cool(np.arange(0,1,0.005))[:, :3]\n",
    "colorbar_shaped = np.stack([colorbar_base]*5)\n",
    "xticks_scaled = (colorbar_shaped.shape[1] - min_values) / (max_values - min_values)\n",
    "\n",
    "plt.imshow(colorbar_shaped)\n",
    "plt.yticks(())\n",
    "plt.xticks((0, colorbar_shaped.shape[1]), [min_values, max_values])\n",
    "\n",
    "circles = []\n",
    "\n",
    "for i,row in map_df_meta.iterrows():\n",
    "    latitude = row[\"latitude_rounded\"]\n",
    "    longitude = row[\"longitude_rounded\"]\n",
    "    value = row[color_col]\n",
    "    scaled_value = (value - min_values) / (max_values - min_values)\n",
    "    color = matplotlib.colors.rgb2hex(matplotlib.cm.cool(scaled_value))\n",
    "    \n",
    "    c = ipy.Circle(location=(latitude, longitude), \\\n",
    "                  color = color, \\\n",
    "                  opacity = 0.2, \\\n",
    "                  fill_opacity = 0.2,\\\n",
    "                  fill_color = color \\\n",
    "                  )\n",
    "    m += c\n",
    "    \n",
    "m"
   ]
  },
  {
   "cell_type": "code",
   "execution_count": 37,
   "id": "4b9625c2-0c8e-42f4-9ce0-e58fa9064175",
   "metadata": {},
   "outputs": [
    {
     "name": "stdout",
     "output_type": "stream",
     "text": [
      "Plotting Stations Colored by Tilt\n",
      "\n"
     ]
    },
    {
     "data": {
      "application/vnd.jupyter.widget-view+json": {
       "model_id": "076e0ce7be214ac7920f7054299db654",
       "version_major": 2,
       "version_minor": 0
      },
      "text/plain": [
       "Map(center=[54.315, -1.9450000000000003], controls=(ZoomControl(options=['position', 'zoom_in_text', 'zoom_in_…"
      ]
     },
     "execution_count": 37,
     "metadata": {},
     "output_type": "execute_result"
    },
    {
     "data": {
      "image/png": "[encoded data removed]",
      "text/plain": [
       "<Figure size 640x480 with 1 Axes>"
      ]
     },
     "metadata": {},
     "output_type": "display_data"
    }
   ],
   "source": [
    "#%%time\n",
    "print(\"Plotting Stations Colored by Tilt\")\n",
    "print()\n",
    "### Plot stations according to tilt\n",
    "m = ipy.Map( \\\n",
    "           basemap= ipy.basemaps.OpenStreetMap.Mapnik, \\\n",
    "           default_tiles= ipy.TileLayer(opacity=1.0), \\\n",
    "           center=map_center, \\\n",
    "           zoom=zoom \\\n",
    "          )\n",
    "\n",
    "# Plot each system as a circle where the color indicates presence in dataset\n",
    "# Color represents another value\n",
    "color_col = \"tilt\"\n",
    "min_values = min_tilt\n",
    "max_values = max_tilt\n",
    "\n",
    "colorbar_base = matplotlib.cm.cool(np.arange(0,1,0.005))[:, :3]\n",
    "colorbar_shaped = np.stack([colorbar_base]*5)\n",
    "xticks_scaled = (colorbar_shaped.shape[1] - min_values) / (max_values - min_values)\n",
    "\n",
    "plt.imshow(colorbar_shaped)\n",
    "plt.yticks(())\n",
    "plt.xticks((0, colorbar_shaped.shape[1]), [min_values, max_values])\n",
    "\n",
    "circles = []\n",
    "\n",
    "for i,row in map_df_meta.iterrows():\n",
    "    latitude = row[\"latitude_rounded\"]\n",
    "    longitude = row[\"longitude_rounded\"]\n",
    "    value = row[color_col]\n",
    "    scaled_value = (value - min_values) / (max_values - min_values)\n",
    "    color = matplotlib.colors.rgb2hex(matplotlib.cm.cool(scaled_value))\n",
    "    \n",
    "    c = ipy.Circle(location=(latitude, longitude), \\\n",
    "                  color = color, \\\n",
    "                  opacity = 0.2, \\\n",
    "                  fill_opacity = 0.2,\\\n",
    "                  fill_color = color \\\n",
    "                  )\n",
    "    m += c\n",
    "    \n",
    "m"
   ]
  },
  {
   "cell_type": "code",
   "execution_count": 24,
   "id": "e721b049-76f3-4bb6-b7fa-4219fdd751bd",
   "metadata": {},
   "outputs": [],
   "source": [
    "### Save the datasets\n",
    "\n",
    "# df2.rdd.saveAsPickleFile(\"df_pickled\")\n",
    "df_meta3.to_csv(\"metadata_preprocessed.csv\", header=True, index=False)"
   ]
  }
 ],
 "metadata": {
  "kernelspec": {
   "display_name": "Python 3 (ipykernel)",
   "language": "python",
   "name": "python3"
  },
  "language_info": {
   "codemirror_mode": {
    "name": "ipython",
    "version": 3
   },
   "file_extension": ".py",
   "mimetype": "text/x-python",
   "name": "python",
   "nbconvert_exporter": "python",
   "pygments_lexer": "ipython3",
   "version": "3.11.6"
  }
 },
 "nbformat": 4,
 "nbformat_minor": 5
}
