{
 "cells": [
  {
   "cell_type": "markdown",
   "id": "4a724268-4736-4d58-ac81-7cf3998c230b",
   "metadata": {},
   "source": [
    "# Base Notebook\n",
    "\n",
    "## Consolidate code here"
   ]
  },
  {
   "cell_type": "code",
   "execution_count": null,
   "id": "48f5f90b-dcfd-4b4b-a90c-3536e375115a",
   "metadata": {},
   "outputs": [],
   "source": []
  }
 ],
 "metadata": {
  "kernelspec": {
   "display_name": "Python 3 (ipykernel)",
   "language": "python",
   "name": "python3"
  },
  "language_info": {
   "codemirror_mode": {
    "name": "ipython",
    "version": 3
   },
   "file_extension": ".py",
   "mimetype": "text/x-python",
   "name": "python",
   "nbconvert_exporter": "python",
   "pygments_lexer": "ipython3",
   "version": "3.9.18"
  }
 },
 "nbformat": 4,
 "nbformat_minor": 5
}
